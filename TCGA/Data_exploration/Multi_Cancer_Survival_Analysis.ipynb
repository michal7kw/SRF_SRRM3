{
 "cells": [
  {
   "cell_type": "code",
   "execution_count": 17,
   "metadata": {
    "vscode": {
     "languageId": "r"
    }
   },
   "outputs": [],
   "source": [
    "knitr::opts_chunk$set(\n",
    "  echo = TRUE,\n",
    "  warning = FALSE,\n",
    "  message = FALSE,\n",
    "  fig.width = 10,\n",
    "  fig.height = 6\n",
    ")"
   ]
  },
  {
   "cell_type": "markdown",
   "metadata": {
    "vscode": {
     "languageId": "r"
    }
   },
   "source": [
    "- ACC (adrenocortical carcinoma)\n",
    "- UVM (uveal melanoma)\n",
    "- SKCM (skin cutaneous melanoma)\n",
    "- LLG (brain lower grade glioma)\n",
    "- GBM (glioblatoma)\n"
   ]
  },
  {
   "cell_type": "markdown",
   "metadata": {},
   "source": [
    "# Setup"
   ]
  },
  {
   "cell_type": "code",
   "execution_count": 18,
   "metadata": {
    "vscode": {
     "languageId": "r"
    }
   },
   "outputs": [],
   "source": [
    "# Data manipulation and analysis\n",
    "library(dplyr)        # Data manipulation and transformation\n",
    "library(tidyverse)    # Collection of data science packages\n",
    "library(data.table)   # Fast data manipulation\n",
    "\n",
    "# Survival analysis\n",
    "library(survival)     # Core survival analysis functions\n",
    "library(survminer)    # Survival analysis visualization\n",
    "\n",
    "# Genomic data handling\n",
    "library(recount3)     # Access to RNA-seq data\n",
    "library(biomaRt)      # Access to genomic annotations\n",
    "library(TCGAbiolinks) # TCGA data access\n",
    "library(SummarizedExperiment) # Container for genomic data\n",
    "library(DESeq2)      # RNA-seq analysis\n",
    "library(GenomicFeatures) # Genomic feature handling\n",
    "library(rtracklayer)  # Import/export genomic tracks\n",
    "\n",
    "# Matrix operations\n",
    "library(matrixStats)  # Matrix calculations\n",
    "library(sparseMatrixStats) # Sparse matrix operations\n",
    "\n",
    "# Parallel processing\n",
    "library(parallel)     # Base R parallel processing\n",
    "library(BiocParallel) # Bioconductor parallel processing\n",
    "\n",
    "# Utilities\n",
    "library(httr)         # HTTP requests\n",
    "library(retry)        # Retry failed operations\n",
    "library(futile.logger) # Logging functionality\n",
    "library(viridis)      # Color palettes"
   ]
  },
  {
   "cell_type": "code",
   "execution_count": 19,
   "metadata": {
    "vscode": {
     "languageId": "r"
    }
   },
   "outputs": [
    {
     "data": {
      "text/html": [
       "<style>\n",
       ".dl-inline {width: auto; margin:0; padding: 0}\n",
       ".dl-inline>dt, .dl-inline>dd {float: none; width: auto; display: inline-block}\n",
       ".dl-inline>dt::after {content: \":\\0020\"; padding-right: .5ex}\n",
       ".dl-inline>dt:not(:first-of-type) {padding-left: .5ex}\n",
       "</style><dl class=dl-inline><dt>R_MAX_NUM_DLLS</dt><dd>'150'</dd><dt>R_GC_MEM_GROW</dt><dd>'3'</dd><dt>R_ENABLE_JIT</dt><dd>'3'</dd><dt>OMP_NUM_THREADS</dt><dd>'32'</dd><dt>OPENBLAS_NUM_THREADS</dt><dd>'32'</dd><dt>MKL_NUM_THREADS</dt><dd>'32'</dd></dl>\n"
      ],
      "text/latex": [
       "\\begin{description*}\n",
       "\\item[R\\textbackslash{}\\_MAX\\textbackslash{}\\_NUM\\textbackslash{}\\_DLLS] '150'\n",
       "\\item[R\\textbackslash{}\\_GC\\textbackslash{}\\_MEM\\textbackslash{}\\_GROW] '3'\n",
       "\\item[R\\textbackslash{}\\_ENABLE\\textbackslash{}\\_JIT] '3'\n",
       "\\item[OMP\\textbackslash{}\\_NUM\\textbackslash{}\\_THREADS] '32'\n",
       "\\item[OPENBLAS\\textbackslash{}\\_NUM\\textbackslash{}\\_THREADS] '32'\n",
       "\\item[MKL\\textbackslash{}\\_NUM\\textbackslash{}\\_THREADS] '32'\n",
       "\\end{description*}\n"
      ],
      "text/markdown": [
       "R_MAX_NUM_DLLS\n",
       ":   '150'R_GC_MEM_GROW\n",
       ":   '3'R_ENABLE_JIT\n",
       ":   '3'OMP_NUM_THREADS\n",
       ":   '32'OPENBLAS_NUM_THREADS\n",
       ":   '32'MKL_NUM_THREADS\n",
       ":   '32'\n",
       "\n"
      ],
      "text/plain": [
       "      R_MAX_NUM_DLLS        R_GC_MEM_GROW         R_ENABLE_JIT \n",
       "               \"150\"                  \"3\"                  \"3\" \n",
       "     OMP_NUM_THREADS OPENBLAS_NUM_THREADS      MKL_NUM_THREADS \n",
       "                \"32\"                 \"32\"                 \"32\" "
      ]
     },
     "metadata": {},
     "output_type": "display_data"
    }
   ],
   "source": [
    "# Set R environment variables for better performance\n",
    "Sys.setenv(R_MAX_NUM_DLLS = 150)\n",
    "Sys.setenv(R_GC_MEM_GROW = 3)\n",
    "Sys.setenv(R_ENABLE_JIT = 3)\n",
    "\n",
    "# For parallel processing, you can set these based on your available cores\n",
    "# For example, if you want to use 32 cores like in the shell script:\n",
    "num_cores <- 32\n",
    "Sys.setenv(OMP_NUM_THREADS = num_cores)\n",
    "Sys.setenv(OPENBLAS_NUM_THREADS = num_cores)\n",
    "Sys.setenv(MKL_NUM_THREADS = num_cores)\n",
    "\n",
    "# Verify the environment variables were set\n",
    "Sys.getenv(c(\"R_MAX_NUM_DLLS\", \"R_GC_MEM_GROW\", \"R_ENABLE_JIT\", \n",
    "             \"OMP_NUM_THREADS\", \"OPENBLAS_NUM_THREADS\", \"MKL_NUM_THREADS\"))"
   ]
  },
  {
   "cell_type": "code",
   "execution_count": 20,
   "metadata": {
    "vscode": {
     "languageId": "r"
    }
   },
   "outputs": [
    {
     "name": "stderr",
     "output_type": "stream",
     "text": [
      "Running in single-core mode\n",
      "\n"
     ]
    }
   ],
   "source": [
    "#####################################################################\n",
    "# Set Up Parallel Processing\n",
    "#####################################################################\n",
    "# Detect number of cores from SLURM environment or default to 1\n",
    "num_cores <- as.numeric(Sys.getenv(\"SLURM_NTASKS\", unset = \"1\"))\n",
    "if (num_cores > 1) {\n",
    "  message(sprintf(\"Setting up parallel processing with %d cores\", num_cores))\n",
    "  BiocParallel::register(MulticoreParam(workers = num_cores))\n",
    "} else {\n",
    "  message(\"Running in single-core mode\")\n",
    "}"
   ]
  },
  {
   "cell_type": "code",
   "execution_count": 21,
   "metadata": {
    "vscode": {
     "languageId": "r"
    }
   },
   "outputs": [],
   "source": [
    "#####################################################################\n",
    "# Create Directory Structure\n",
    "#####################################################################\n",
    "# Create directories for storing results, cache, and logs\n",
    "dir.create(\"results_notebook\", showWarnings = FALSE)  # Store analysis results\n",
    "dir.create(\"cache\", showWarnings = FALSE)    # Store cached data"
   ]
  },
  {
   "cell_type": "markdown",
   "metadata": {},
   "source": [
    "# Functions"
   ]
  },
  {
   "cell_type": "code",
   "execution_count": 22,
   "metadata": {
    "vscode": {
     "languageId": "r"
    }
   },
   "outputs": [],
   "source": [
    "#####################################################################\n",
    "# Ensembl Connection Management\n",
    "#####################################################################\n",
    "# Cache connection to Ensembl to avoid repeated connections\n",
    "ensembl <- NULL\n",
    "get_ensembl_connection <- function() {\n",
    "  if (is.null(ensembl)) {\n",
    "    ensembl <<- useMart(\"ensembl\", dataset = \"hsapiens_gene_ensembl\")\n",
    "  }\n",
    "  return(ensembl)\n",
    "}"
   ]
  },
  {
   "cell_type": "code",
   "execution_count": 23,
   "metadata": {
    "vscode": {
     "languageId": "r"
    }
   },
   "outputs": [],
   "source": [
    "#####################################################################\n",
    "# Clinical Data Retrieval and Processing\n",
    "#####################################################################\n",
    "# Function to retrieve and clean clinical data from TCGA\n",
    "get_clinical_data <- function(cancer_type) {\n",
    "  message(sprintf(\"Getting clinical data for %s\", cancer_type))\n",
    "  clinical <- GDCquery_clinic(project = paste0(\"TCGA-\", cancer_type), type = \"clinical\")\n",
    "  \n",
    "  if (nrow(clinical) == 0) {\n",
    "    stop(sprintf(\"No clinical data found for %s\", cancer_type))\n",
    "  }\n",
    "  \n",
    "  # Print column names for debugging\n",
    "  message(\"Available clinical columns:\")\n",
    "  message(paste(colnames(clinical), collapse=\", \"))\n",
    "  \n",
    "  # Clean and standardize clinical data\n",
    "  clinical_clean <- clinical %>%\n",
    "    dplyr::transmute(\n",
    "      case_id = submitter_id,\n",
    "      vital_status = vital_status,\n",
    "      # Calculate survival time using either death or last follow-up\n",
    "      overall_survival = case_when(\n",
    "        !is.na(days_to_death) ~ as.numeric(days_to_death),\n",
    "        !is.na(days_to_last_follow_up) ~ as.numeric(days_to_last_follow_up),\n",
    "        TRUE ~ NA_real_\n",
    "      ),\n",
    "      # Standardize vital status to boolean\n",
    "      deceased = case_when(\n",
    "        tolower(vital_status) == \"dead\" ~ TRUE,\n",
    "        tolower(vital_status) == \"alive\" ~ FALSE,\n",
    "        TRUE ~ NA\n",
    "      )\n",
    "    ) %>%\n",
    "    dplyr::filter(!is.na(overall_survival), !is.na(deceased))\n",
    "  \n",
    "  # Print summary statistics\n",
    "  message(sprintf(\"Processed clinical data summary:\"))\n",
    "  message(sprintf(\"- Total patients: %d\", nrow(clinical_clean)))\n",
    "  message(sprintf(\"- Patients with death events: %d\", sum(clinical_clean$deceased)))\n",
    "  message(sprintf(\"- Median survival time: %.1f days\", median(clinical_clean$overall_survival)))\n",
    "  \n",
    "  return(clinical_clean)\n",
    "}"
   ]
  },
  {
   "cell_type": "code",
   "execution_count": 24,
   "metadata": {
    "vscode": {
     "languageId": "r"
    }
   },
   "outputs": [],
   "source": [
    "#####################################################################\n",
    "# Expression Data Retrieval and Processing\n",
    "#####################################################################\n",
    "# Function to get gene expression data from TCGA via recount3\n",
    "get_expression_data <- function(cancer_type, gene_name) {\n",
    "  cache_file <- file.path(\"cache\", paste0(\"expression_data_\", cancer_type, \"_\", gene_name, \".rds\"))\n",
    "  \n",
    "  # Check cache first\n",
    "  if (file.exists(cache_file)) {\n",
    "    message(\"Loading cached expression data...\")\n",
    "    return(readRDS(cache_file))\n",
    "  }\n",
    "  \n",
    "  message(\"Getting expression data from recount3...\")\n",
    "  projects <- available_projects()\n",
    "  \n",
    "  # Find specific project in recount3\n",
    "  project_info <- subset(projects, \n",
    "                        project == toupper(cancer_type) &\n",
    "                        file_source == \"tcga\" &\n",
    "                        project_type == \"data_sources\")\n",
    "  \n",
    "  if (nrow(project_info) != 1) {\n",
    "    stop(sprintf(\"Could not find unique project for %s\", cancer_type))\n",
    "  }\n",
    "  \n",
    "  message(\"Creating RSE object...\")\n",
    "  rse_gene <- create_rse(\n",
    "    project_info[1, ],\n",
    "    type = \"gene\",\n",
    "    annotation = \"gencode_v26\"\n",
    "  )\n",
    "  \n",
    "  # Extract expression for specific gene\n",
    "  gene_idx <- which(rowData(rse_gene)$gene_name == gene_name)[1]\n",
    "  if (is.na(gene_idx)) {\n",
    "    stop(sprintf(\"Gene %s not found in dataset\", gene_name))\n",
    "  }\n",
    "  \n",
    "  # Create data frame with expression values\n",
    "  expression_data <- data.frame(\n",
    "    case_id = substr(colData(rse_gene)$tcga.tcga_barcode, 1, 12),\n",
    "    expression = assays(rse_gene)$counts[gene_idx, ]\n",
    "  )\n",
    "  \n",
    "  # Handle duplicate samples by averaging\n",
    "  if (any(duplicated(expression_data$case_id))) {\n",
    "    expression_data <- expression_data %>%\n",
    "      group_by(case_id) %>%\n",
    "      summarize(expression = mean(expression, na.rm = TRUE)) %>%\n",
    "      ungroup()\n",
    "  }\n",
    "  \n",
    "  saveRDS(expression_data, cache_file)\n",
    "  return(expression_data)\n",
    "}"
   ]
  },
  {
   "cell_type": "code",
   "execution_count": 25,
   "metadata": {
    "vscode": {
     "languageId": "r"
    }
   },
   "outputs": [],
   "source": [
    "#####################################################################\n",
    "# PSI (Percent Spliced In) Data Retrieval and Processing\n",
    "#####################################################################\n",
    "# Function to calculate PSI values for specific exons\n",
    "get_psi_data <- function(cancer_type, gene_name = \"SRRM3\") {\n",
    "  cache_file <- file.path(\"cache\", paste0(\"psi_data_\", cancer_type, \"_\", gene_name, \".rds\"))\n",
    "  \n",
    "  if (file.exists(cache_file)) {\n",
    "    message(\"Loading cached PSI data...\")\n",
    "    return(readRDS(cache_file))\n",
    "  }\n",
    "  \n",
    "  # Define genomic coordinates for SRRM3 exon 15\n",
    "  SRRM3_INFO <- list(\n",
    "    gene = list(\n",
    "      name = \"SRRM3\",\n",
    "      chr = \"chr7\",\n",
    "      start = 76201896,\n",
    "      end = 76287287\n",
    "    ),\n",
    "    exon15 = list(\n",
    "      start = 76283524,\n",
    "      end = 76283602,\n",
    "      length = 79\n",
    "    )\n",
    "  )\n",
    "  \n",
    "  message(\"Getting junction data from recount3...\")\n",
    "  projects <- available_projects()\n",
    "  \n",
    "  # Find specific project\n",
    "  project_info <- subset(projects, \n",
    "                        project == toupper(cancer_type) &\n",
    "                        file_source == \"tcga\" &\n",
    "                        project_type == \"data_sources\")\n",
    "  \n",
    "  if (nrow(project_info) != 1) {\n",
    "    message(\"\\nAvailable TCGA projects:\")\n",
    "    print(subset(projects, file_source == \"tcga\" & project_type == \"data_sources\"))\n",
    "    stop(\"Could not find unique project for \", cancer_type)\n",
    "  }\n",
    "  \n",
    "  # Get junction data\n",
    "  message(\"Creating RSE object...\")\n",
    "  rse_jxn <- create_rse(\n",
    "    project_info[1, ],\n",
    "    type = \"jxn\",\n",
    "    jxn_format = \"UNIQUE\",\n",
    "    verbose = TRUE\n",
    "  )\n",
    "  \n",
    "  junction_counts <- assay(rse_jxn)\n",
    "  jxn_coords <- rowRanges(rse_jxn)\n",
    "  \n",
    "  # Find junctions in SRRM3 region\n",
    "  message(\"Finding relevant junctions...\")\n",
    "  srrm3_region <- which(\n",
    "    start(jxn_coords) >= (SRRM3_INFO$exon15$start - 10000) &\n",
    "    end(jxn_coords) <= (SRRM3_INFO$exon15$end + 10000) &\n",
    "    seqnames(jxn_coords) == \"chr7\"\n",
    "  )\n",
    "  \n",
    "  if (length(srrm3_region) == 0) {\n",
    "    stop(\"No junctions found in SRRM3 region\")\n",
    "  }\n",
    "  \n",
    "  message(sprintf(\"Found %d junctions in SRRM3 region\", length(srrm3_region)))\n",
    "  \n",
    "  # Extract relevant junctions\n",
    "  jxn_coords <- jxn_coords[srrm3_region]\n",
    "  junction_counts <- junction_counts[srrm3_region, ]\n",
    "  \n",
    "  # Identify inclusion and exclusion junctions\n",
    "  inclusion_jxns <- which(\n",
    "    (abs(end(jxn_coords) - SRRM3_INFO$exon15$start) <= 5) |\n",
    "    (abs(start(jxn_coords) - SRRM3_INFO$exon15$end) <= 5)\n",
    "  )\n",
    "  \n",
    "  exclusion_jxns <- which(\n",
    "    start(jxn_coords) < (SRRM3_INFO$exon15$start - 5) &\n",
    "    end(jxn_coords) > (SRRM3_INFO$exon15$end + 5)\n",
    "  )\n",
    "  \n",
    "  message(sprintf(\"Found %d inclusion and %d exclusion junctions\", \n",
    "                 length(inclusion_jxns), length(exclusion_jxns)))\n",
    "  \n",
    "  if (length(inclusion_jxns) == 0 || length(exclusion_jxns) == 0) {\n",
    "    stop(\"Could not find both inclusion and exclusion junctions\")\n",
    "  }\n",
    "  \n",
    "  # Calculate PSI values for each sample\n",
    "  psi_data <- data.frame(\n",
    "    case_id = colData(rse_jxn)$tcga.tcga_barcode,\n",
    "    psi = sapply(seq_len(ncol(junction_counts)), function(i) {\n",
    "      inclusion_reads <- sum(junction_counts[inclusion_jxns, i])\n",
    "      exclusion_reads <- sum(junction_counts[exclusion_jxns, i])\n",
    "      total_reads <- inclusion_reads + exclusion_reads\n",
    "      \n",
    "      if(total_reads >= 10) {  # Minimum read coverage threshold\n",
    "        return((inclusion_reads / total_reads) * 100)\n",
    "      } else {\n",
    "        return(NA)\n",
    "      }\n",
    "    })\n",
    "  )\n",
    "  \n",
    "  # Clean and format data\n",
    "  psi_data$case_id <- substr(psi_data$case_id, 1, 12)\n",
    "  \n",
    "  # Remove NA values and handle duplicates\n",
    "  psi_data <- psi_data %>%\n",
    "    filter(!is.na(psi)) %>%\n",
    "    group_by(case_id) %>%\n",
    "    summarize(psi = mean(psi, na.rm = TRUE)) %>%\n",
    "    ungroup()\n",
    "  \n",
    "  message(sprintf(\"Found %d samples with valid PSI values\", nrow(psi_data)))\n",
    "  \n",
    "  saveRDS(psi_data, cache_file)\n",
    "  return(psi_data)\n",
    "}"
   ]
  },
  {
   "cell_type": "code",
   "execution_count": 26,
   "metadata": {
    "vscode": {
     "languageId": "r"
    }
   },
   "outputs": [],
   "source": [
    "#####################################################################\n",
    "# Gene Information Retrieval\n",
    "#####################################################################\n",
    "# Function to get gene coordinates and information from Ensembl\n",
    "get_gene_info <- function(gene_name) {\n",
    "  # Connect to Ensembl\n",
    "  ensembl <- useMart(\"ensembl\", dataset = \"hsapiens_gene_ensembl\")\n",
    "  \n",
    "  # Get gene coordinates and information\n",
    "  gene_info <- getBM(\n",
    "    attributes = c(\n",
    "      \"hgnc_symbol\",\n",
    "      \"chromosome_name\",\n",
    "      \"start_position\",\n",
    "      \"end_position\",\n",
    "      \"strand\"\n",
    "    ),\n",
    "    filters = \"hgnc_symbol\",\n",
    "    values = gene_name,\n",
    "    mart = ensembl\n",
    "  )\n",
    "  \n",
    "  if (nrow(gene_info) == 0) {\n",
    "    stop(paste(\"Could not find gene info for\", gene_name))\n",
    "  }\n",
    "  \n",
    "  # Handle multiple entries\n",
    "  if (nrow(gene_info) > 1) {\n",
    "    message(\"Multiple entries found for \", gene_name, \", using first entry\")\n",
    "    gene_info <- gene_info[1, ]\n",
    "  }\n",
    "  \n",
    "  # Standardize chromosome format\n",
    "  if (!grepl(\"^chr\", gene_info$chromosome_name)) {\n",
    "    gene_info$chromosome_name <- paste0(\"chr\", gene_info$chromosome_name)\n",
    "  }\n",
    "  \n",
    "  return(gene_info)\n",
    "}"
   ]
  },
  {
   "cell_type": "markdown",
   "metadata": {},
   "source": [
    "# Analysis"
   ]
  },
  {
   "cell_type": "code",
   "execution_count": 32,
   "metadata": {
    "vscode": {
     "languageId": "r"
    }
   },
   "outputs": [],
   "source": [
    "# Set working directory\n",
    "setwd(\"/beegfs/scratch/ric.broccoli/kubacki.michal/SRF_SRRM3/TCGA\")\n"
   ]
  },
  {
   "cell_type": "code",
   "execution_count": 29,
   "metadata": {
    "vscode": {
     "languageId": "r"
    }
   },
   "outputs": [],
   "source": [
    "CANCER_TYPES <- c(\"ACC\", \"UVM\", \"SKCM\", \"LLG\", \"GBM\")"
   ]
  },
  {
   "cell_type": "code",
   "execution_count": 30,
   "metadata": {
    "vscode": {
     "languageId": "r"
    }
   },
   "outputs": [
    {
     "name": "stdout",
     "output_type": "stream",
     "text": [
      "Analysis Configuration:\n",
      "Cancer Type: GBM \n",
      "Gene: SRRM3 \n",
      "Data Type: PSI \n",
      "Grouping Method: quartile \n"
     ]
    }
   ],
   "source": [
    "# Set the cancer type you want to analyze\n",
    "CANCER_TYPE <- \"GBM\"  # Change this to analyze different cancer types\n",
    "\n",
    "# Analysis parameters\n",
    "ANALYSIS_PARAMS <- list(\n",
    "  gene = \"SRRM3\",\n",
    "  data_type = \"PSI\",  # or \"expression\"\n",
    "  grouping_method = \"quartile\"\n",
    ")\n",
    "\n",
    "# Print configuration\n",
    "cat(\"Analysis Configuration:\\n\")\n",
    "cat(\"Cancer Type:\", CANCER_TYPE, \"\\n\")\n",
    "cat(\"Gene:\", ANALYSIS_PARAMS$gene, \"\\n\")\n",
    "cat(\"Data Type:\", ANALYSIS_PARAMS$data_type, \"\\n\")\n",
    "cat(\"Grouping Method:\", ANALYSIS_PARAMS$grouping_method, \"\\n\")"
   ]
  },
  {
   "cell_type": "code",
   "execution_count": 36,
   "metadata": {
    "vscode": {
     "languageId": "r"
    }
   },
   "outputs": [
    {
     "name": "stderr",
     "output_type": "stream",
     "text": [
      "Running in single-core mode\n",
      "\n",
      "Running in single-core mode\n",
      "\n",
      "Getting clinical data for GBM\n",
      "\n"
     ]
    },
    {
     "ename": "ERROR",
     "evalue": "Error in value[[3L]](cond): Error retrieving clinical data for GBM: Supplied 617 items to be assigned to 1175 items of column 'submitter_id'. If you wish to 'recycle' the RHS please use rep() to make this intent clear to readers of your code.\n",
     "output_type": "error",
     "traceback": [
      "Error in value[[3L]](cond): Error retrieving clinical data for GBM: Supplied 617 items to be assigned to 1175 items of column 'submitter_id'. If you wish to 'recycle' the RHS please use rep() to make this intent clear to readers of your code.\nTraceback:\n",
      "1. tryCatch({\n .     orig_datatable <- getOption(\"datatable.auto.index\")\n .     options(datatable.auto.index = FALSE)\n .     query <- GDCquery_clinic(project = paste0(\"TCGA-\", cancer_type), \n .         type = \"clinical\")\n .     options(datatable.auto.index = orig_datatable)\n .     query <- as.data.frame(query)\n .     for (col in colnames(query)) {\n .         if (length(query[[col]]) != nrow(query)) {\n .             message(sprintf(\"Fixing length mismatch in column: %s\", \n .                 col))\n .             min_length <- min(length(query[[col]]), nrow(query))\n .             query <- query[1:min_length, ]\n .         }\n .     }\n .     if (!\"submitter_id\" %in% colnames(query)) {\n .         stop(\"Required column 'submitter_id' not found in clinical data\")\n .     }\n .     query\n . }, error = function(e) {\n .     stop(sprintf(\"Error retrieving clinical data for %s: %s\", \n .         cancer_type, e$message))\n . })",
      "2. tryCatchList(expr, classes, parentenv, handlers)",
      "3. tryCatchOne(expr, names, parentenv, handlers[[1L]])",
      "4. value[[3L]](cond)",
      "5. stop(sprintf(\"Error retrieving clinical data for %s: %s\", cancer_type, \n .     e$message))",
      "6. .handleSimpleError(function (cnd) \n . {\n .     watcher$capture_plot_and_output()\n .     cnd <- sanitize_call(cnd)\n .     watcher$push(cnd)\n .     switch(on_error, continue = invokeRestart(\"eval_continue\"), \n .         stop = invokeRestart(\"eval_stop\"), error = invokeRestart(\"eval_error\", \n .             cnd))\n . }, \"Error retrieving clinical data for GBM: Supplied 617 items to be assigned to 1175 items of column 'submitter_id'. If you wish to 'recycle' the RHS please use rep() to make this intent clear to readers of your code.\", \n .     base::quote(value[[3L]](cond)))"
     ]
    }
   ],
   "source": [
    "# Source all functions from the original script\n",
    "source(\"Multi_Cancer_Survival_Analysis.R\")\n",
    "\n",
    "# Reload the functions by detaching and re-sourcing\n",
    "if (\"package:Multi_Cancer_Survival_Analysis\" %in% search()) {\n",
    "  detach(\"package:Multi_Cancer_Survival_Analysis\", unload = TRUE)\n",
    "}\n",
    "source(\"Multi_Cancer_Survival_Analysis.R\")\n",
    "\n",
    "# Get clinical data\n",
    "clinical_data <- get_clinical_data(CANCER_TYPE)\n",
    "\n",
    "# Display summary of clinical data\n",
    "summary(clinical_data)\n",
    "\n",
    "# Plot basic survival curve for all patients\n",
    "fit_all <- survfit(Surv(overall_survival, deceased) ~ 1, data = clinical_data)\n",
    "ggsurvplot(fit_all, \n",
    "           data = clinical_data,\n",
    "           title = paste(\"Overall survival in\", CANCER_TYPE),\n",
    "           risk.table = TRUE)"
   ]
  },
  {
   "cell_type": "code",
   "execution_count": null,
   "metadata": {
    "vscode": {
     "languageId": "r"
    }
   },
   "outputs": [],
   "source": []
  }
 ],
 "metadata": {
  "kernelspec": {
   "display_name": "R",
   "language": "R",
   "name": "ir"
  },
  "language_info": {
   "codemirror_mode": "r",
   "file_extension": ".r",
   "mimetype": "text/x-r-source",
   "name": "R",
   "pygments_lexer": "r",
   "version": "4.3.3"
  }
 },
 "nbformat": 4,
 "nbformat_minor": 2
}
