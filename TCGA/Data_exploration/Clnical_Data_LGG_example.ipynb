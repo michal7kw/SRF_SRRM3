{
 "cells": [
  {
   "cell_type": "markdown",
   "metadata": {
    "vscode": {
     "languageId": "r"
    }
   },
   "source": [
    "- ACC (adrenocortical carcinoma)\n",
    "- UVM (uveal melanoma)\n",
    "- SKCM (skin cutaneous melanoma)\n",
    "- LGG (brain lower grade glioma)\n",
    "- GBM (glioblatoma)\n"
   ]
  },
  {
   "cell_type": "markdown",
   "metadata": {},
   "source": [
    "# Setup"
   ]
  },
  {
   "cell_type": "code",
   "execution_count": null,
   "metadata": {
    "vscode": {
     "languageId": "r"
    }
   },
   "outputs": [],
   "source": [
    "# Data manipulation and analysis\n",
    "suppressPackageStartupMessages({\n",
    "  library(dplyr)        # Data manipulation and transformation\n",
    "  library(tidyverse)    # Collection of data science packages\n",
    "  library(data.table)   # Fast data manipulation\n",
    "\n",
    "  # Survival analysis\n",
    "  library(survival)     # Core survival analysis functions\n",
    "  library(survminer)    # Survival analysis visualization\n",
    "\n",
    "  # Genomic data handling\n",
    "  library(recount3)     # Access to RNA-seq data\n",
    "  library(biomaRt)      # Access to genomic annotations\n",
    "  library(TCGAbiolinks) # TCGA data access\n",
    "  library(SummarizedExperiment) # Container for genomic data\n",
    "  library(DESeq2)      # RNA-seq analysis\n",
    "  library(GenomicFeatures) # Genomic feature handling\n",
    "  library(rtracklayer)  # Import/export genomic tracks\n",
    "\n",
    "  # Matrix operations\n",
    "  library(matrixStats)  # Matrix calculations\n",
    "  library(sparseMatrixStats) # Sparse matrix operations\n",
    "\n",
    "  # Parallel processing\n",
    "  library(parallel)     # Base R parallel processing\n",
    "  library(BiocParallel) # Bioconductor parallel processing\n",
    "\n",
    "  # Utilities\n",
    "  library(httr)         # HTTP requests\n",
    "  library(retry)        # Retry failed operations\n",
    "  library(futile.logger) # Logging functionality\n",
    "  library(viridis)      # Color palettes\n",
    "})"
   ]
  },
  {
   "cell_type": "code",
   "execution_count": 5,
   "metadata": {
    "vscode": {
     "languageId": "r"
    }
   },
   "outputs": [],
   "source": [
    "# Set working directory\n",
    "setwd(\"/beegfs/scratch/ric.broccoli/kubacki.michal/SRF_SRRM3/TCGA/Data_exploration\")\n"
   ]
  },
  {
   "cell_type": "code",
   "execution_count": null,
   "metadata": {
    "vscode": {
     "languageId": "r"
    }
   },
   "outputs": [],
   "source": [
    "# Set R environment variables for better performance\n",
    "Sys.setenv(R_MAX_NUM_DLLS = 150)\n",
    "Sys.setenv(R_GC_MEM_GROW = 3)\n",
    "Sys.setenv(R_ENABLE_JIT = 3)\n",
    "\n",
    "# For parallel processing, you can set these based on your available cores\n",
    "# For example, if you want to use 32 cores like in the shell script:\n",
    "num_cores <- 4\n",
    "Sys.setenv(OMP_NUM_THREADS = num_cores)\n",
    "Sys.setenv(OPENBLAS_NUM_THREADS = num_cores)\n",
    "Sys.setenv(MKL_NUM_THREADS = num_cores)\n",
    "\n",
    "# Verify the environment variables were set\n",
    "Sys.getenv(c(\"R_MAX_NUM_DLLS\", \"R_GC_MEM_GROW\", \"R_ENABLE_JIT\", \n",
    "             \"OMP_NUM_THREADS\", \"OPENBLAS_NUM_THREADS\", \"MKL_NUM_THREADS\"))\n",
    "\n",
    "BiocParallel::register(MulticoreParam(workers = num_cores))"
   ]
  },
  {
   "cell_type": "markdown",
   "metadata": {},
   "source": [
    "# Analysis"
   ]
  },
  {
   "cell_type": "code",
   "execution_count": null,
   "metadata": {
    "vscode": {
     "languageId": "r"
    }
   },
   "outputs": [],
   "source": [
    "cancer_types <- c(\"ACC\", \"UVM\", \"SKCM\", \"LGG\", \"GBM\")\n",
    "cancer_type <- \"LGG\"\n",
    "expression_threshold = 0.75\n",
    "threshold = 0.75\n",
    "grouping_method = \"quartile\"\n",
    "gene_name = \"SRRM3\""
   ]
  },
  {
   "cell_type": "code",
   "execution_count": null,
   "metadata": {
    "vscode": {
     "languageId": "r"
    }
   },
   "outputs": [],
   "source": [
    "projects <- available_projects()"
   ]
  },
  {
   "cell_type": "code",
   "execution_count": null,
   "metadata": {
    "vscode": {
     "languageId": "r"
    }
   },
   "outputs": [],
   "source": [
    "head(projects, 10)"
   ]
  },
  {
   "cell_type": "code",
   "execution_count": 110,
   "metadata": {
    "vscode": {
     "languageId": "r"
    }
   },
   "outputs": [
    {
     "name": "stdout",
     "output_type": "stream",
     "text": [
      "[1] \"sra\"  \"gtex\" \"tcga\"\n",
      "[1] \"data_sources\"\n"
     ]
    }
   ],
   "source": [
    "print(unique(projects$file_source))\n",
    "print(unique(projects$project_type))"
   ]
  },
  {
   "cell_type": "code",
   "execution_count": 111,
   "metadata": {
    "vscode": {
     "languageId": "r"
    }
   },
   "outputs": [
    {
     "name": "stdout",
     "output_type": "stream",
     "text": [
      " [1] \"ACC\"  \"BLCA\" \"BRCA\" \"CESC\" \"CHOL\" \"COAD\" \"DLBC\" \"ESCA\" \"GBM\"  \"HNSC\"\n",
      "[11] \"KICH\" \"KIRC\" \"KIRP\" \"LAML\" \"LGG\"  \"LIHC\" \"LUAD\" \"LUSC\" \"MESO\" \"OV\"  \n",
      "[21] \"PAAD\" \"PCPG\" \"PRAD\" \"READ\" \"SARC\" \"SKCM\" \"STAD\" \"TGCT\" \"THCA\" \"THYM\"\n",
      "[31] \"UCEC\" \"UCS\"  \"UVM\" \n"
     ]
    }
   ],
   "source": [
    "print(unique(projects[projects$file_source == \"tcga\",]$project))"
   ]
  },
  {
   "cell_type": "code",
   "execution_count": 112,
   "metadata": {
    "vscode": {
     "languageId": "r"
    }
   },
   "outputs": [],
   "source": [
    "project_info <- subset(projects, \n",
    "                      project == toupper(cancer_type) &\n",
    "                      file_source == \"tcga\" &\n",
    "                      project_type == \"data_sources\")"
   ]
  },
  {
   "cell_type": "code",
   "execution_count": 113,
   "metadata": {
    "vscode": {
     "languageId": "r"
    }
   },
   "outputs": [
    {
     "data": {
      "text/html": [
       "<table class=\"dataframe\">\n",
       "<caption>A data.frame: 1 × 6</caption>\n",
       "<thead>\n",
       "\t<tr><th></th><th scope=col>project</th><th scope=col>organism</th><th scope=col>file_source</th><th scope=col>project_home</th><th scope=col>project_type</th><th scope=col>n_samples</th></tr>\n",
       "\t<tr><th></th><th scope=col>&lt;chr&gt;</th><th scope=col>&lt;chr&gt;</th><th scope=col>&lt;chr&gt;</th><th scope=col>&lt;chr&gt;</th><th scope=col>&lt;chr&gt;</th><th scope=col>&lt;int&gt;</th></tr>\n",
       "</thead>\n",
       "<tbody>\n",
       "\t<tr><th scope=row>8724</th><td>LGG</td><td>human</td><td>tcga</td><td>data_sources/tcga</td><td>data_sources</td><td>532</td></tr>\n",
       "</tbody>\n",
       "</table>\n"
      ],
      "text/latex": [
       "A data.frame: 1 × 6\n",
       "\\begin{tabular}{r|llllll}\n",
       "  & project & organism & file\\_source & project\\_home & project\\_type & n\\_samples\\\\\n",
       "  & <chr> & <chr> & <chr> & <chr> & <chr> & <int>\\\\\n",
       "\\hline\n",
       "\t8724 & LGG & human & tcga & data\\_sources/tcga & data\\_sources & 532\\\\\n",
       "\\end{tabular}\n"
      ],
      "text/markdown": [
       "\n",
       "A data.frame: 1 × 6\n",
       "\n",
       "| <!--/--> | project &lt;chr&gt; | organism &lt;chr&gt; | file_source &lt;chr&gt; | project_home &lt;chr&gt; | project_type &lt;chr&gt; | n_samples &lt;int&gt; |\n",
       "|---|---|---|---|---|---|---|\n",
       "| 8724 | LGG | human | tcga | data_sources/tcga | data_sources | 532 |\n",
       "\n"
      ],
      "text/plain": [
       "     project organism file_source project_home      project_type n_samples\n",
       "8724 LGG     human    tcga        data_sources/tcga data_sources 532      "
      ]
     },
     "metadata": {},
     "output_type": "display_data"
    }
   ],
   "source": [
    "project_info"
   ]
  },
  {
   "cell_type": "code",
   "execution_count": 114,
   "metadata": {
    "vscode": {
     "languageId": "r"
    }
   },
   "outputs": [
    {
     "name": "stdout",
     "output_type": "stream",
     "text": [
      "[1] \"../TCGA_clinical/clinical.project-tcga-lgg.2025-02-12\"\n"
     ]
    }
   ],
   "source": [
    "clinical_dir <- file.path(\"../TCGA_clinical\", \n",
    "                        sprintf(\"clinical.project-tcga-%s.2025-02-12\", \n",
    "                                tolower(cancer_type)))\n",
    "print(clinical_dir)"
   ]
  },
  {
   "cell_type": "code",
   "execution_count": 115,
   "metadata": {
    "vscode": {
     "languageId": "r"
    }
   },
   "outputs": [],
   "source": [
    "# Read clinical.tsv and follow_up.tsv files\n",
    "clinical <- read.delim(file.path(clinical_dir, \"clinical.tsv\"), \n",
    "                    sep=\"\\t\", stringsAsFactors=FALSE, na.strings=\"'--\")\n",
    "follow_up <- read.delim(file.path(clinical_dir, \"follow_up.tsv\"), \n",
    "                        sep=\"\\t\", stringsAsFactors=FALSE, na.strings=\"'--\")\n",
    "exposure <- read.delim(file.path(clinical_dir, \"exposure.tsv\"), \n",
    "                        sep=\"\\t\", stringsAsFactors=FALSE, na.strings=\"'--\")\n",
    "family_history <- read.delim(file.path(clinical_dir, \"family_history.tsv\"), \n",
    "                        sep=\"\\t\", stringsAsFactors=FALSE, na.strings=\"'--\")\n",
    "pathology_details <- read.delim(file.path(clinical_dir, \"pathology_detail.tsv\"), \n",
    "                        sep=\"\\t\", stringsAsFactors=FALSE, na.strings=\"'--\")\n"
   ]
  },
  {
   "cell_type": "markdown",
   "metadata": {},
   "source": [
    "# Clinical data"
   ]
  },
  {
   "cell_type": "code",
   "execution_count": 116,
   "metadata": {
    "vscode": {
     "languageId": "r"
    }
   },
   "outputs": [
    {
     "data": {
      "text/html": [
       "<table class=\"dataframe\">\n",
       "<caption>A data.frame: 3 × 197</caption>\n",
       "<thead>\n",
       "\t<tr><th></th><th scope=col>case_id</th><th scope=col>case_submitter_id</th><th scope=col>project_id</th><th scope=col>age_at_index</th><th scope=col>age_is_obfuscated</th><th scope=col>cause_of_death</th><th scope=col>cause_of_death_source</th><th scope=col>country_of_birth</th><th scope=col>country_of_residence_at_enrollment</th><th scope=col>days_to_birth</th><th scope=col>⋯</th><th scope=col>treatment_dose_units</th><th scope=col>treatment_duration</th><th scope=col>treatment_effect</th><th scope=col>treatment_effect_indicator</th><th scope=col>treatment_frequency</th><th scope=col>treatment_intent_type</th><th scope=col>treatment_or_therapy</th><th scope=col>treatment_outcome</th><th scope=col>treatment_outcome_duration</th><th scope=col>treatment_type</th></tr>\n",
       "\t<tr><th></th><th scope=col>&lt;chr&gt;</th><th scope=col>&lt;chr&gt;</th><th scope=col>&lt;chr&gt;</th><th scope=col>&lt;int&gt;</th><th scope=col>&lt;chr&gt;</th><th scope=col>&lt;chr&gt;</th><th scope=col>&lt;lgl&gt;</th><th scope=col>&lt;lgl&gt;</th><th scope=col>&lt;chr&gt;</th><th scope=col>&lt;int&gt;</th><th scope=col>⋯</th><th scope=col>&lt;chr&gt;</th><th scope=col>&lt;lgl&gt;</th><th scope=col>&lt;lgl&gt;</th><th scope=col>&lt;lgl&gt;</th><th scope=col>&lt;lgl&gt;</th><th scope=col>&lt;chr&gt;</th><th scope=col>&lt;chr&gt;</th><th scope=col>&lt;chr&gt;</th><th scope=col>&lt;lgl&gt;</th><th scope=col>&lt;chr&gt;</th></tr>\n",
       "</thead>\n",
       "<tbody>\n",
       "\t<tr><th scope=row>1</th><td>001ad307-4ad3-4f1d-b2fc-efc032871c7e</td><td>TCGA-HT-A614</td><td>TCGA-LGG</td><td>47</td><td>false</td><td>NA</td><td>NA</td><td>NA</td><td>United States</td><td>-17392</td><td>⋯</td><td>NA</td><td>NA</td><td>NA</td><td>NA</td><td>NA</td><td>Adjuvant</td><td>unknown</td><td>NA</td><td>NA</td><td>Pharmaceutical Therapy, NOS</td></tr>\n",
       "\t<tr><th scope=row>2</th><td>001ad307-4ad3-4f1d-b2fc-efc032871c7e</td><td>TCGA-HT-A614</td><td>TCGA-LGG</td><td>47</td><td>false</td><td>NA</td><td>NA</td><td>NA</td><td>United States</td><td>-17392</td><td>⋯</td><td>NA</td><td>NA</td><td>NA</td><td>NA</td><td>NA</td><td>NA      </td><td>yes    </td><td>NA</td><td>NA</td><td>Antiseizure Treatment      </td></tr>\n",
       "\t<tr><th scope=row>3</th><td>001ad307-4ad3-4f1d-b2fc-efc032871c7e</td><td>TCGA-HT-A614</td><td>TCGA-LGG</td><td>47</td><td>false</td><td>NA</td><td>NA</td><td>NA</td><td>United States</td><td>-17392</td><td>⋯</td><td>NA</td><td>NA</td><td>NA</td><td>NA</td><td>NA</td><td>NA      </td><td>no     </td><td>NA</td><td>NA</td><td>Radiation Therapy, NOS     </td></tr>\n",
       "</tbody>\n",
       "</table>\n"
      ],
      "text/latex": [
       "A data.frame: 3 × 197\n",
       "\\begin{tabular}{r|lllllllllllllllllllll}\n",
       "  & case\\_id & case\\_submitter\\_id & project\\_id & age\\_at\\_index & age\\_is\\_obfuscated & cause\\_of\\_death & cause\\_of\\_death\\_source & country\\_of\\_birth & country\\_of\\_residence\\_at\\_enrollment & days\\_to\\_birth & ⋯ & treatment\\_dose\\_units & treatment\\_duration & treatment\\_effect & treatment\\_effect\\_indicator & treatment\\_frequency & treatment\\_intent\\_type & treatment\\_or\\_therapy & treatment\\_outcome & treatment\\_outcome\\_duration & treatment\\_type\\\\\n",
       "  & <chr> & <chr> & <chr> & <int> & <chr> & <chr> & <lgl> & <lgl> & <chr> & <int> & ⋯ & <chr> & <lgl> & <lgl> & <lgl> & <lgl> & <chr> & <chr> & <chr> & <lgl> & <chr>\\\\\n",
       "\\hline\n",
       "\t1 & 001ad307-4ad3-4f1d-b2fc-efc032871c7e & TCGA-HT-A614 & TCGA-LGG & 47 & false & NA & NA & NA & United States & -17392 & ⋯ & NA & NA & NA & NA & NA & Adjuvant & unknown & NA & NA & Pharmaceutical Therapy, NOS\\\\\n",
       "\t2 & 001ad307-4ad3-4f1d-b2fc-efc032871c7e & TCGA-HT-A614 & TCGA-LGG & 47 & false & NA & NA & NA & United States & -17392 & ⋯ & NA & NA & NA & NA & NA & NA       & yes     & NA & NA & Antiseizure Treatment      \\\\\n",
       "\t3 & 001ad307-4ad3-4f1d-b2fc-efc032871c7e & TCGA-HT-A614 & TCGA-LGG & 47 & false & NA & NA & NA & United States & -17392 & ⋯ & NA & NA & NA & NA & NA & NA       & no      & NA & NA & Radiation Therapy, NOS     \\\\\n",
       "\\end{tabular}\n"
      ],
      "text/markdown": [
       "\n",
       "A data.frame: 3 × 197\n",
       "\n",
       "| <!--/--> | case_id &lt;chr&gt; | case_submitter_id &lt;chr&gt; | project_id &lt;chr&gt; | age_at_index &lt;int&gt; | age_is_obfuscated &lt;chr&gt; | cause_of_death &lt;chr&gt; | cause_of_death_source &lt;lgl&gt; | country_of_birth &lt;lgl&gt; | country_of_residence_at_enrollment &lt;chr&gt; | days_to_birth &lt;int&gt; | ⋯ ⋯ | treatment_dose_units &lt;chr&gt; | treatment_duration &lt;lgl&gt; | treatment_effect &lt;lgl&gt; | treatment_effect_indicator &lt;lgl&gt; | treatment_frequency &lt;lgl&gt; | treatment_intent_type &lt;chr&gt; | treatment_or_therapy &lt;chr&gt; | treatment_outcome &lt;chr&gt; | treatment_outcome_duration &lt;lgl&gt; | treatment_type &lt;chr&gt; |\n",
       "|---|---|---|---|---|---|---|---|---|---|---|---|---|---|---|---|---|---|---|---|---|---|\n",
       "| 1 | 001ad307-4ad3-4f1d-b2fc-efc032871c7e | TCGA-HT-A614 | TCGA-LGG | 47 | false | NA | NA | NA | United States | -17392 | ⋯ | NA | NA | NA | NA | NA | Adjuvant | unknown | NA | NA | Pharmaceutical Therapy, NOS |\n",
       "| 2 | 001ad307-4ad3-4f1d-b2fc-efc032871c7e | TCGA-HT-A614 | TCGA-LGG | 47 | false | NA | NA | NA | United States | -17392 | ⋯ | NA | NA | NA | NA | NA | NA       | yes     | NA | NA | Antiseizure Treatment       |\n",
       "| 3 | 001ad307-4ad3-4f1d-b2fc-efc032871c7e | TCGA-HT-A614 | TCGA-LGG | 47 | false | NA | NA | NA | United States | -17392 | ⋯ | NA | NA | NA | NA | NA | NA       | no      | NA | NA | Radiation Therapy, NOS      |\n",
       "\n"
      ],
      "text/plain": [
       "  case_id                              case_submitter_id project_id\n",
       "1 001ad307-4ad3-4f1d-b2fc-efc032871c7e TCGA-HT-A614      TCGA-LGG  \n",
       "2 001ad307-4ad3-4f1d-b2fc-efc032871c7e TCGA-HT-A614      TCGA-LGG  \n",
       "3 001ad307-4ad3-4f1d-b2fc-efc032871c7e TCGA-HT-A614      TCGA-LGG  \n",
       "  age_at_index age_is_obfuscated cause_of_death cause_of_death_source\n",
       "1 47           false             NA             NA                   \n",
       "2 47           false             NA             NA                   \n",
       "3 47           false             NA             NA                   \n",
       "  country_of_birth country_of_residence_at_enrollment days_to_birth ⋯\n",
       "1 NA               United States                      -17392        ⋯\n",
       "2 NA               United States                      -17392        ⋯\n",
       "3 NA               United States                      -17392        ⋯\n",
       "  treatment_dose_units treatment_duration treatment_effect\n",
       "1 NA                   NA                 NA              \n",
       "2 NA                   NA                 NA              \n",
       "3 NA                   NA                 NA              \n",
       "  treatment_effect_indicator treatment_frequency treatment_intent_type\n",
       "1 NA                         NA                  Adjuvant             \n",
       "2 NA                         NA                  NA                   \n",
       "3 NA                         NA                  NA                   \n",
       "  treatment_or_therapy treatment_outcome treatment_outcome_duration\n",
       "1 unknown              NA                NA                        \n",
       "2 yes                  NA                NA                        \n",
       "3 no                   NA                NA                        \n",
       "  treatment_type             \n",
       "1 Pharmaceutical Therapy, NOS\n",
       "2 Antiseizure Treatment      \n",
       "3 Radiation Therapy, NOS     "
      ]
     },
     "metadata": {},
     "output_type": "display_data"
    },
    {
     "name": "stdout",
     "output_type": "stream",
     "text": [
      "Number of columns: 197 \n",
      "case_id, case_submitter_id, project_id, age_at_index, age_is_obfuscated, cause_of_death, cause_of_death_source \n",
      "country_of_birth, country_of_residence_at_enrollment, days_to_birth, days_to_death, education_level, ethnicity, gender \n",
      "marital_status, occupation_duration_years, population_group, premature_at_birth, race, vital_status, weeks_gestation_at_birth \n",
      "year_of_birth, year_of_death, adrenal_hormone, age_at_diagnosis, ajcc_clinical_m, ajcc_clinical_n, ajcc_clinical_stage \n",
      "ajcc_clinical_t, ajcc_pathologic_m, ajcc_pathologic_n, ajcc_pathologic_stage, ajcc_pathologic_t, ajcc_serum_tumor_markers, ajcc_staging_system_edition \n",
      "ann_arbor_b_symptoms, ann_arbor_b_symptoms_described, ann_arbor_clinical_stage, ann_arbor_extranodal_involvement, ann_arbor_pathologic_stage, best_overall_response, burkitt_lymphoma_clinical_variant \n",
      "calgb_risk_group, cancer_detection_method, child_pugh_classification, clark_level, classification_of_tumor, cog_liver_stage, cog_neuroblastoma_risk_group \n",
      "cog_renal_stage, cog_rhabdomyosarcoma_risk_group, contiguous_organ_invaded, days_to_best_overall_response, days_to_diagnosis, days_to_last_follow_up, days_to_last_known_disease_status \n",
      "days_to_recurrence, diagnosis_is_primary_disease, double_expressor_lymphoma, double_hit_lymphoma, eln_risk_classification, enneking_msts_grade, enneking_msts_metastasis \n",
      "enneking_msts_stage, enneking_msts_tumor_site, ensat_clinical_m, ensat_pathologic_n, ensat_pathologic_stage, ensat_pathologic_t, esophageal_columnar_dysplasia_degree \n",
      "esophageal_columnar_metaplasia_present, fab_morphology_code, figo_stage, figo_staging_edition_year, first_symptom_longest_duration, first_symptom_prior_to_diagnosis, gastric_esophageal_junction_involvement \n",
      "gleason_grade_group, gleason_grade_tertiary, gleason_patterns_percent, gleason_score, goblet_cells_columnar_mucosa_present, icd_10_code, igcccg_stage \n",
      "inpc_grade, inpc_histologic_group, inrg_stage, inss_stage, international_prognostic_index, irs_group, irs_stage \n",
      "ishak_fibrosis_score, iss_stage, last_known_disease_status, laterality, margin_distance, margins_involved_site, masaoka_stage \n",
      "max_tumor_bulk_site, medulloblastoma_molecular_classification, melanoma_known_primary, metastasis_at_diagnosis, metastasis_at_diagnosis_site, method_of_diagnosis, micropapillary_features \n",
      "mitosis_karyorrhexis_index, mitotic_count, morphology, ovarian_specimen_status, ovarian_surface_involvement, papillary_renal_cell_type, pediatric_kidney_staging \n",
      "peritoneal_fluid_cytological_status, pregnant_at_diagnosis, primary_diagnosis, primary_disease, primary_gleason_grade, prior_malignancy, prior_treatment \n",
      "progression_or_recurrence, residual_disease, satellite_nodule_present, secondary_gleason_grade, site_of_resection_or_biopsy, sites_of_involvement, sites_of_involvement_count \n",
      "supratentorial_localization, synchronous_malignancy, tissue_or_organ_of_origin, tumor_burden, tumor_confined_to_organ_of_origin, tumor_depth, tumor_focality \n",
      "tumor_grade, tumor_grade_category, tumor_of_origin, tumor_regression_grade, uicc_clinical_m, uicc_clinical_n, uicc_clinical_stage \n",
      "uicc_clinical_t, uicc_pathologic_m, uicc_pathologic_n, uicc_pathologic_stage, uicc_pathologic_t, uicc_staging_system_edition, ulceration_indicator \n",
      "weiss_assessment_findings, weiss_assessment_score, who_cns_grade, who_nte_grade, wilms_tumor_histologic_subtype, year_of_diagnosis, chemo_concurrent_to_radiation \n",
      "clinical_trial_indicator, course_number, days_to_treatment_end, days_to_treatment_start, drug_category, embolic_agent, initial_disease_status \n",
      "lesions_treated_number, margin_distance.1, margin_status, margins_involved_site.1, number_of_cycles, number_of_fractions, prescribed_dose \n",
      "prescribed_dose_units, pretreatment, protocol_identifier, radiosensitizing_agent, reason_treatment_ended, reason_treatment_not_given, regimen_or_line_of_therapy \n",
      "residual_disease.1, route_of_administration, therapeutic_agents, therapeutic_level_achieved, therapeutic_levels_achieved, therapeutic_target_level, timepoint_category \n",
      "treatment_anatomic_site, treatment_anatomic_sites, treatment_arm, treatment_dose, treatment_dose_max, treatment_dose_units, treatment_duration \n",
      "treatment_effect, treatment_effect_indicator, treatment_frequency, treatment_intent_type, treatment_or_therapy, treatment_outcome, treatment_outcome_duration \n",
      "treatment_type \n"
     ]
    }
   ],
   "source": [
    "head(clinical, 3)\n",
    "\n",
    "cols_number <- ncol(clinical)\n",
    "cat(\"Number of columns:\", cols_number, \"\\n\")\n",
    "\n",
    "period = 7\n",
    "# Print column names in groups\n",
    "for (i in 0:floor((cols_number-1)/period)) {\n",
    "  start_idx <- i*period + 1\n",
    "  end_idx <- min((i+1)*period, cols_number)\n",
    "  cat(paste(colnames(clinical)[start_idx:end_idx], collapse=\", \"), \"\\n\")\n",
    "}"
   ]
  },
  {
   "cell_type": "code",
   "execution_count": 117,
   "metadata": {
    "vscode": {
     "languageId": "r"
    }
   },
   "outputs": [
    {
     "name": "stdout",
     "output_type": "stream",
     "text": [
      "vital_status: Alive Dead Not Reported \n",
      "cause_of_death: NA Not Reported \n",
      "cause_of_death_source: NA \n",
      "gender: male female not reported \n",
      "population_group: NA \n",
      "race: white black or african american asian not reported Unknown american indian or alaska native \n",
      "age_at_diagnosis: 17392 13934 11332 16334 19610 6987 6480 16945 17471 18443 17874 18341 14814 11854 11118 11252 19056 16102 15178 18321 8820 16136 16117 13108 21811 22241 12851 11070 15513 17289 15658 20558 13198 7380 20609 13680 26904 10812 13314 21979 22866 14659 14939 12845 11684 NA 12728 11906 11357 15435 15051 16163 23680 8642 21964 14936 15629 16084 23482 8752 10849 19903 25357 25266 21133 11533 11427 19310 19207 22342 10150 16470 19950 24122 5267 24282 9345 12393 14279 17390 11741 22997 22811 26992 22847 22038 19432 15091 11083 7716 11528 11935 12960 12248 12595 13443 13217 13345 13387 13525 21990 16843 18410 17878 16297 17481 10053 9643 9710 10378 10494 10434 9546 22585 18799 14171 9614 13453 16415 14405 14205 18955 13943 12820 11846 14964 14249 15284 10624 10476 9575 11600 10742 7913 31776 31979 12291 14234 11509 21715 12340 9705 9800 15926 15154 14082 14417 14617 11474 13460 22948 20233 19823 13140 12899 13251 13402 11330 18161 17744 12809 15086 15076 12757 10724 21231 27186 19616 18376 17729 15372 15734 14496 15066 15534 20613 24686 19181 17857 17800 24055 15891 14535 15375 11043 23351 23760 23263 15289 15619 13332 8508 19894 19541 11666 17025 17881 9590 9172 8043 7231 6857 14212 14368 10440 21020 21304 22302 20567 15836 13968 13564 9447 10652 9005 15986 16251 18956 16460 21930 26002 22738 23885 19639 18791 12107 13216 8912 19906 21535 24411 10827 14073 13663 19185 12384 8240 13546 14802 12285 12229 17134 25262 20175 20453 12848 23769 10697 10167 12998 11884 19030 17656 17663 18415 10678 12305 9228 19710 18748 12131 12632 26159 13903 14988 10571 11184 11656 11551 10980 23374 20241 14022 16066 14548 12403 13227 14660 17692 18130 12417 11970 14671 11584 12781 20014 22735 18494 14716 12314 12111 7389 9363 10178 8947 15583 16758 14108 8966 9068 8571 16384 15481 14201 25726 26310 15727 12972 11465 10989 11379 13892 20296 7612 15590 15092 12488 14524 22596 22998 15418 13021 24109 11221 12247 10825 11988 14010 12331 13367 9867 14133 12460 19149 16202 17501 12580 16911 21921 22490 21341 20251 19869 21450 26069 25809 12550 24276 24752 21844 16560 16644 15045 12578 16275 16973 12828 16465 16074 15300 13799 7946 22565 12092 12157 14910 7760 12266 12941 9539 19277 18939 18429 14375 21392 21199 15230 16472 18535 17612 20010 19644 11286 22603 21908 11849 25772 16280 13606 12748 20128 22327 11637 24966 25581 23484 14985 15956 15857 15279 8340 15589 11312 11530 11431 22031 12245 25419 10253 9413 24450 18686 19172 12606 11861 11428 11295 12853 14422 13565 17271 17073 16982 17311 11810 12849 13948 16987 13822 17188 16896 13695 14111 14018 17258 16037 14920 11595 13481 21610 21554 19717 20625 18747 16770 18962 14019 11498 12543 12485 10950 27725 27084 11738 12669 18173 22348 22372 9667 21321 21509 17465 20254 18154 18217 18305 19094 26766 22745 12655 14259 19927 10933 11120 16890 17582 14152 21189 14640 13961 14766 14264 13595 10170 20836 8271 15900 16023 18950 13002 10252 10108 22837 24289 25302 21865 21774 21095 21445 12445 11391 12874 15071 12385 16842 16137 27685 16300 21183 25667 15850 17381 12152 19423 19138 11195 21352 9411 9044 18990 14592 15144 11418 11421 11014 17843 23091 23545 21803 21200 10883 14007 10184 10422 19399 18206 18460 10342 13904 21129 21308 21106 23175 23064 11097 11189 13338 20394 13597 19555 19236 13371 13554 12557 20753 20180 20696 23600 23665 23180 19866 12607 17377 15186 14306 17339 11823 10175 9021 21634 15039 18857 18977 13145 19921 26050 24800 10805 18084 15540 14679 25570 25699 25791 27039 10960 4387 7911 7421 17460 23486 11333 10824 13396 11855 11622 15197 8817 19156 16052 9322 16512 14858 13424 9380 19991 24525 24252 8335 18193 13881 12725 16734 16021 17344 20771 20778 20704 13222 14310 21331 15931 16240 21824 22011 19234 19474 10890 20041 19142 10027 22275 18199 24690 25414 22150 21745 10306 9809 17610 18564 11291 15431 23077 23303 15650 16201 11305 19223 13673 12631 14767 23936 9209 16667 19818 17726 17331 17775 14140 14187 10082 10581 18234 19025 19213 13503 10834 10641 9316 8403 16161 15059 13753 16695 17532 24403 24242 11209 10673 14418 16106 7581 12764 17111 15041 15632 21239 16277 14933 13545 11764 7664 15866 21019 21357 22880 19944 9919 14603 17499 17619 14315 13506 12402 22266 21761 12817 11971 12665 12754 12437 12159 12696 16135 15848 12315 11804 6994 18735 25173 27232 13621 13990 10790 24587 24578 15345 17432 20136 12836 13786 12123 11668 22850 15847 22034 16310 13611 11233 16732 \n",
      "classification_of_tumor: primary recurrence metastasis not reported Prior primary Synchronous primary \n",
      "metastasis_at_diagnosis: NA \n",
      "tumor_burden: NA \n",
      "tumor_depth: NA \n",
      "tumor_grade: G2 NA G3 \n",
      "tumor_grade_category: NA \n"
     ]
    }
   ],
   "source": [
    "cat(\"vital_status:\", unique(clinical$vital_status), \"\\n\")\n",
    "cat(\"cause_of_death:\", unique(clinical$cause_of_death), \"\\n\") \n",
    "cat(\"cause_of_death_source:\", unique(clinical$cause_of_death_source), \"\\n\")\n",
    "cat(\"gender:\", unique(clinical$gender), \"\\n\")\n",
    "cat(\"population_group:\", unique(clinical$population_group), \"\\n\")\n",
    "cat(\"race:\", unique(clinical$race), \"\\n\")\n",
    "cat(\"age_at_diagnosis:\", unique(clinical$age_at_diagnosis), \"\\n\")\n",
    "cat(\"classification_of_tumor:\", unique(clinical$classification_of_tumor), \"\\n\")\n",
    "cat(\"metastasis_at_diagnosis:\", unique(clinical$metastasis_at_diagnosis), \"\\n\")\n",
    "cat(\"tumor_burden:\", unique(clinical$tumor_burden), \"\\n\")\n",
    "cat(\"tumor_depth:\", unique(clinical$tumor_depth), \"\\n\")\n",
    "cat(\"tumor_grade:\", unique(clinical$tumor_grade), \"\\n\")\n",
    "cat(\"tumor_grade_category:\", unique(clinical$tumor_grade_category), \"\\n\")"
   ]
  },
  {
   "cell_type": "code",
   "execution_count": 118,
   "metadata": {
    "vscode": {
     "languageId": "r"
    }
   },
   "outputs": [
    {
     "data": {
      "image/png": "[encoded data removed]",
      "text/plain": [
       "Plot with title “Distribution of Tumor Grades”"
      ]
     },
     "metadata": {
      "image/png": {
       "height": 420,
       "width": 420
      }
     },
     "output_type": "display_data"
    }
   ],
   "source": [
    "#### tumor_grade ################################################################\n",
    "# First remove NAs and convert valid grades to numeric\n",
    "tumor_grades <- clinical$tumor_grade\n",
    "tumor_grades <- tumor_grades[!is.na(tumor_grades) & tumor_grades != \"\"]\n",
    "\n",
    "# Extract numeric grade from G2/G3 format\n",
    "tumor_grades_num <- as.numeric(gsub(\"G\", \"\", tumor_grades))\n",
    "\n",
    "# Create histogram\n",
    "hist(tumor_grades_num,\n",
    "     main=\"Distribution of Tumor Grades\", \n",
    "     xlab=\"Tumor Grade\",\n",
    "     ylab=\"Frequency\",\n",
    "     breaks=seq(1.5, 3.5, by=0.5),\n",
    "     yaxt=\"n\")\n",
    "\n",
    "# Add y-axis\n",
    "axis(2, las=1) # Add y-axis with horizontal labels"
   ]
  },
  {
   "cell_type": "code",
   "execution_count": 119,
   "metadata": {
    "vscode": {
     "languageId": "r"
    }
   },
   "outputs": [
    {
     "data": {
      "image/png": "[encoded data removed]",
      "text/plain": [
       "Plot with title “Distribution of Race”"
      ]
     },
     "metadata": {
      "image/png": {
       "height": 420,
       "width": 420
      }
     },
     "output_type": "display_data"
    }
   ],
   "source": [
    "#### race #######################################################################\n",
    "# Get race data and remove NAs and empty strings\n",
    "race <- clinical$race\n",
    "race <- race[!is.na(race) & race != \"\"]\n",
    "\n",
    "# Convert to factor with proper categories\n",
    "race <- factor(race, \n",
    "              levels=c(\"white\", \n",
    "                      \"black or african american\", \n",
    "                      \"asian\",\n",
    "                      \"not reported\",\n",
    "                      \"Unknown\",\n",
    "                      \"american indian or alaska native\"))\n",
    "\n",
    "# Create bar plot instead of histogram since race is categorical\n",
    "barplot(table(race),\n",
    "        main=\"Distribution of Race\",\n",
    "        xlab=\"Race\",\n",
    "        ylab=\"Frequency\",\n",
    "        las=2, # Rotate x-axis labels\n",
    "        cex.names=0.8) # Reduce label text size"
   ]
  },
  {
   "cell_type": "code",
   "execution_count": 120,
   "metadata": {
    "vscode": {
     "languageId": "r"
    }
   },
   "outputs": [
    {
     "data": {
      "image/png": "[encoded data removed]",
      "text/plain": [
       "Plot with title “Distribution of Tumor Classification”"
      ]
     },
     "metadata": {
      "image/png": {
       "height": 420,
       "width": 420
      }
     },
     "output_type": "display_data"
    }
   ],
   "source": [
    "#### classification_of_tumor #####################################################\n",
    "# Get tumor classification data and remove NAs and empty strings\n",
    "tumor_class <- clinical$classification_of_tumor\n",
    "tumor_class <- tumor_class[!is.na(tumor_class) & tumor_class != \"\"]\n",
    "\n",
    "# Convert to factor with proper categories\n",
    "tumor_class <- factor(tumor_class,\n",
    "                     levels=c(\"primary\",\n",
    "                             \"recurrence\",\n",
    "                             \"metastasis\", \n",
    "                             \"not reported\",\n",
    "                             \"Prior primary\",\n",
    "                             \"Synchronous primary\"))\n",
    "\n",
    "# Create bar plot since tumor classification is categorical\n",
    "barplot(table(tumor_class),\n",
    "        main=\"Distribution of Tumor Classification\",\n",
    "        xlab=\"\",\n",
    "        ylab=\"Frequency\", \n",
    "        las=2)\n"
   ]
  },
  {
   "cell_type": "markdown",
   "metadata": {},
   "source": [
    "# Follow up"
   ]
  },
  {
   "cell_type": "code",
   "execution_count": 121,
   "metadata": {
    "vscode": {
     "languageId": "r"
    }
   },
   "outputs": [
    {
     "data": {
      "text/html": [
       "<table class=\"dataframe\">\n",
       "<caption>A data.frame: 3 × 139</caption>\n",
       "<thead>\n",
       "\t<tr><th></th><th scope=col>case_id</th><th scope=col>case_submitter_id</th><th scope=col>project_id</th><th scope=col>adverse_event</th><th scope=col>adverse_event_grade</th><th scope=col>aids_risk_factors</th><th scope=col>barretts_esophagus_goblet_cells_present</th><th scope=col>bmi</th><th scope=col>body_surface_area</th><th scope=col>cause_of_response</th><th scope=col>⋯</th><th scope=col>test_analyte_type</th><th scope=col>test_result</th><th scope=col>test_units</th><th scope=col>test_value</th><th scope=col>test_value_range</th><th scope=col>timepoint_category.1</th><th scope=col>transcript</th><th scope=col>variant_origin</th><th scope=col>variant_type</th><th scope=col>zygosity</th></tr>\n",
       "\t<tr><th></th><th scope=col>&lt;chr&gt;</th><th scope=col>&lt;chr&gt;</th><th scope=col>&lt;chr&gt;</th><th scope=col>&lt;lgl&gt;</th><th scope=col>&lt;lgl&gt;</th><th scope=col>&lt;lgl&gt;</th><th scope=col>&lt;lgl&gt;</th><th scope=col>&lt;lgl&gt;</th><th scope=col>&lt;lgl&gt;</th><th scope=col>&lt;lgl&gt;</th><th scope=col>⋯</th><th scope=col>&lt;lgl&gt;</th><th scope=col>&lt;chr&gt;</th><th scope=col>&lt;lgl&gt;</th><th scope=col>&lt;lgl&gt;</th><th scope=col>&lt;lgl&gt;</th><th scope=col>&lt;chr&gt;</th><th scope=col>&lt;lgl&gt;</th><th scope=col>&lt;lgl&gt;</th><th scope=col>&lt;chr&gt;</th><th scope=col>&lt;lgl&gt;</th></tr>\n",
       "</thead>\n",
       "<tbody>\n",
       "\t<tr><th scope=row>1</th><td>001ad307-4ad3-4f1d-b2fc-efc032871c7e</td><td>TCGA-HT-A614</td><td>TCGA-LGG</td><td>NA</td><td>NA</td><td>NA</td><td>NA</td><td>NA</td><td>NA</td><td>NA</td><td>⋯</td><td>NA</td><td>NA</td><td>NA</td><td>NA</td><td>NA</td><td>Not Reported</td><td>NA</td><td>NA</td><td>NA</td><td>NA</td></tr>\n",
       "\t<tr><th scope=row>2</th><td>001ad307-4ad3-4f1d-b2fc-efc032871c7e</td><td>TCGA-HT-A614</td><td>TCGA-LGG</td><td>NA</td><td>NA</td><td>NA</td><td>NA</td><td>NA</td><td>NA</td><td>NA</td><td>⋯</td><td>NA</td><td>NA</td><td>NA</td><td>NA</td><td>NA</td><td>Last Contact</td><td>NA</td><td>NA</td><td>NA</td><td>NA</td></tr>\n",
       "\t<tr><th scope=row>3</th><td>001ad307-4ad3-4f1d-b2fc-efc032871c7e</td><td>TCGA-HT-A614</td><td>TCGA-LGG</td><td>NA</td><td>NA</td><td>NA</td><td>NA</td><td>NA</td><td>NA</td><td>NA</td><td>⋯</td><td>NA</td><td>NA</td><td>NA</td><td>NA</td><td>NA</td><td>Follow-up   </td><td>NA</td><td>NA</td><td>NA</td><td>NA</td></tr>\n",
       "</tbody>\n",
       "</table>\n"
      ],
      "text/latex": [
       "A data.frame: 3 × 139\n",
       "\\begin{tabular}{r|lllllllllllllllllllll}\n",
       "  & case\\_id & case\\_submitter\\_id & project\\_id & adverse\\_event & adverse\\_event\\_grade & aids\\_risk\\_factors & barretts\\_esophagus\\_goblet\\_cells\\_present & bmi & body\\_surface\\_area & cause\\_of\\_response & ⋯ & test\\_analyte\\_type & test\\_result & test\\_units & test\\_value & test\\_value\\_range & timepoint\\_category.1 & transcript & variant\\_origin & variant\\_type & zygosity\\\\\n",
       "  & <chr> & <chr> & <chr> & <lgl> & <lgl> & <lgl> & <lgl> & <lgl> & <lgl> & <lgl> & ⋯ & <lgl> & <chr> & <lgl> & <lgl> & <lgl> & <chr> & <lgl> & <lgl> & <chr> & <lgl>\\\\\n",
       "\\hline\n",
       "\t1 & 001ad307-4ad3-4f1d-b2fc-efc032871c7e & TCGA-HT-A614 & TCGA-LGG & NA & NA & NA & NA & NA & NA & NA & ⋯ & NA & NA & NA & NA & NA & Not Reported & NA & NA & NA & NA\\\\\n",
       "\t2 & 001ad307-4ad3-4f1d-b2fc-efc032871c7e & TCGA-HT-A614 & TCGA-LGG & NA & NA & NA & NA & NA & NA & NA & ⋯ & NA & NA & NA & NA & NA & Last Contact & NA & NA & NA & NA\\\\\n",
       "\t3 & 001ad307-4ad3-4f1d-b2fc-efc032871c7e & TCGA-HT-A614 & TCGA-LGG & NA & NA & NA & NA & NA & NA & NA & ⋯ & NA & NA & NA & NA & NA & Follow-up    & NA & NA & NA & NA\\\\\n",
       "\\end{tabular}\n"
      ],
      "text/markdown": [
       "\n",
       "A data.frame: 3 × 139\n",
       "\n",
       "| <!--/--> | case_id &lt;chr&gt; | case_submitter_id &lt;chr&gt; | project_id &lt;chr&gt; | adverse_event &lt;lgl&gt; | adverse_event_grade &lt;lgl&gt; | aids_risk_factors &lt;lgl&gt; | barretts_esophagus_goblet_cells_present &lt;lgl&gt; | bmi &lt;lgl&gt; | body_surface_area &lt;lgl&gt; | cause_of_response &lt;lgl&gt; | ⋯ ⋯ | test_analyte_type &lt;lgl&gt; | test_result &lt;chr&gt; | test_units &lt;lgl&gt; | test_value &lt;lgl&gt; | test_value_range &lt;lgl&gt; | timepoint_category.1 &lt;chr&gt; | transcript &lt;lgl&gt; | variant_origin &lt;lgl&gt; | variant_type &lt;chr&gt; | zygosity &lt;lgl&gt; |\n",
       "|---|---|---|---|---|---|---|---|---|---|---|---|---|---|---|---|---|---|---|---|---|---|\n",
       "| 1 | 001ad307-4ad3-4f1d-b2fc-efc032871c7e | TCGA-HT-A614 | TCGA-LGG | NA | NA | NA | NA | NA | NA | NA | ⋯ | NA | NA | NA | NA | NA | Not Reported | NA | NA | NA | NA |\n",
       "| 2 | 001ad307-4ad3-4f1d-b2fc-efc032871c7e | TCGA-HT-A614 | TCGA-LGG | NA | NA | NA | NA | NA | NA | NA | ⋯ | NA | NA | NA | NA | NA | Last Contact | NA | NA | NA | NA |\n",
       "| 3 | 001ad307-4ad3-4f1d-b2fc-efc032871c7e | TCGA-HT-A614 | TCGA-LGG | NA | NA | NA | NA | NA | NA | NA | ⋯ | NA | NA | NA | NA | NA | Follow-up    | NA | NA | NA | NA |\n",
       "\n"
      ],
      "text/plain": [
       "  case_id                              case_submitter_id project_id\n",
       "1 001ad307-4ad3-4f1d-b2fc-efc032871c7e TCGA-HT-A614      TCGA-LGG  \n",
       "2 001ad307-4ad3-4f1d-b2fc-efc032871c7e TCGA-HT-A614      TCGA-LGG  \n",
       "3 001ad307-4ad3-4f1d-b2fc-efc032871c7e TCGA-HT-A614      TCGA-LGG  \n",
       "  adverse_event adverse_event_grade aids_risk_factors\n",
       "1 NA            NA                  NA               \n",
       "2 NA            NA                  NA               \n",
       "3 NA            NA                  NA               \n",
       "  barretts_esophagus_goblet_cells_present bmi body_surface_area\n",
       "1 NA                                      NA  NA               \n",
       "2 NA                                      NA  NA               \n",
       "3 NA                                      NA  NA               \n",
       "  cause_of_response ⋯ test_analyte_type test_result test_units test_value\n",
       "1 NA                ⋯ NA                NA          NA         NA        \n",
       "2 NA                ⋯ NA                NA          NA         NA        \n",
       "3 NA                ⋯ NA                NA          NA         NA        \n",
       "  test_value_range timepoint_category.1 transcript variant_origin variant_type\n",
       "1 NA               Not Reported         NA         NA             NA          \n",
       "2 NA               Last Contact         NA         NA             NA          \n",
       "3 NA               Follow-up            NA         NA             NA          \n",
       "  zygosity\n",
       "1 NA      \n",
       "2 NA      \n",
       "3 NA      "
      ]
     },
     "metadata": {},
     "output_type": "display_data"
    },
    {
     "name": "stdout",
     "output_type": "stream",
     "text": [
      "Number of columns: 139 \n",
      "case_id, case_submitter_id, project_id, adverse_event, adverse_event_grade, aids_risk_factors, barretts_esophagus_goblet_cells_present, bmi, body_surface_area, cause_of_response \n",
      "cd4_count, cdc_hiv_risk_factors, comorbidities, comorbidity, comorbidity_method_of_diagnosis, days_to_adverse_event, days_to_comorbidity, days_to_first_event, days_to_follow_up, days_to_imaging \n",
      "days_to_progression, days_to_progression_free, days_to_recurrence, days_to_risk_factor, diabetes_treatment_type, discontiguous_lesion_count, disease_response, dlco_ref_predictive_percent, ecog_performance_status, evidence_of_progression_type \n",
      "evidence_of_recurrence_type, eye_color, fev1_fvc_post_bronch_percent, fev1_fvc_pre_bronch_percent, fev1_ref_post_bronch_percent, fev1_ref_pre_bronch_percent, first_event, follow_up_id, follow_up_submitter_id, haart_treatment_indicator \n",
      "height, hepatitis_sustained_virological_response, histologic_progression, history_of_tumor, history_of_tumor_type, hiv_viral_load, hormonal_contraceptive_type, hormonal_contraceptive_use, hormone_replacement_therapy_type, hpv_positive_type \n",
      "hysterectomy_margins_involved, hysterectomy_type, imaging_anatomic_site, imaging_findings, imaging_result, imaging_suv, imaging_suv_max, imaging_type, immunosuppressive_treatment_type, karnofsky_performance_status \n",
      "menopause_status, nadir_cd4_count, pancreatitis_onset_year, peritoneal_washing_results, pregnancy_count, pregnancy_outcome, procedures_performed, progression_or_recurrence, progression_or_recurrence_anatomic_site, progression_or_recurrence_type \n",
      "recist_targeted_regions_number, recist_targeted_regions_sum, reflux_treatment_type, risk_factor, risk_factor_method_of_diagnosis, risk_factor_treatment, risk_factors, scan_tracer_used, timepoint_category, treatment_emergent_adverse_event \n",
      "undescended_testis_corrected, undescended_testis_corrected_age, undescended_testis_corrected_laterality, undescended_testis_corrected_method, undescended_testis_history, undescended_testis_history_laterality, viral_hepatitis_serologies, weight, year_of_follow_up, aa_change \n",
      "aneuploidy, antigen, biospecimen_type, biospecimen_volume, blood_test_normal_range_lower, blood_test_normal_range_upper, cell_count, chromosomal_translocation, chromosome, chromosome_arm \n",
      "clonality, copy_number, cytoband, days_to_test, exon, gene_symbol, histone_family, histone_variant, hpv_strain, intron \n",
      "laboratory_test, loci_abnormal_count, loci_count, locus, mismatch_repair_mutation, mitotic_count, mitotic_total_area, molecular_analysis_method, molecular_consequence, molecular_test_id \n",
      "molecular_test_submitter_id, mutation_codon, pathogenicity, ploidy, second_exon, second_gene_symbol, specialized_molecular_test, staining_intensity_scale, staining_intensity_value, test_analyte_type \n",
      "test_result, test_units, test_value, test_value_range, timepoint_category.1, transcript, variant_origin, variant_type, zygosity \n"
     ]
    }
   ],
   "source": [
    "head(follow_up, 3)\n",
    "\n",
    "cols_number <- ncol(follow_up)\n",
    "cat(\"Number of columns:\", cols_number, \"\\n\")\n",
    "\n",
    "period = 10\n",
    "# Print column names in groups\n",
    "for (i in 0:floor((cols_number-1)/period)) {\n",
    "  start_idx <- i*period + 1\n",
    "  end_idx <- min((i+1)*period, cols_number)\n",
    "  cat(paste(colnames(follow_up)[start_idx:end_idx], collapse=\", \"), \"\\n\")\n",
    "}"
   ]
  },
  {
   "cell_type": "code",
   "execution_count": 122,
   "metadata": {
    "vscode": {
     "languageId": "r"
    }
   },
   "outputs": [
    {
     "name": "stdout",
     "output_type": "stream",
     "text": [
      "adverse_event: NA \n",
      "adverse_event_grade: NA \n",
      "disease_response: NA WT-With Tumor TF-Tumor Free Unknown \n",
      "histologic_progression: NA \n"
     ]
    }
   ],
   "source": [
    "cat(\"adverse_event:\", unique(follow_up$adverse_event), \"\\n\")\n",
    "cat(\"adverse_event_grade:\", unique(follow_up$adverse_event_grade), \"\\n\") \n",
    "cat(\"disease_response:\", unique(follow_up$disease_response), \"\\n\")\n",
    "cat(\"histologic_progression:\", unique(follow_up$histologic_progression), \"\\n\")"
   ]
  },
  {
   "cell_type": "markdown",
   "metadata": {},
   "source": [
    "# Pathology details"
   ]
  },
  {
   "cell_type": "code",
   "execution_count": 123,
   "metadata": {
    "vscode": {
     "languageId": "r"
    }
   },
   "outputs": [
    {
     "data": {
      "text/html": [
       "<table class=\"dataframe\">\n",
       "<caption>A data.frame: 3 × 86</caption>\n",
       "<thead>\n",
       "\t<tr><th></th><th scope=col>case_id</th><th scope=col>case_submitter_id</th><th scope=col>project_id</th><th scope=col>diagnosis_id</th><th scope=col>diagnosis_submitter_id</th><th scope=col>additional_pathology_findings</th><th scope=col>anaplasia_present</th><th scope=col>anaplasia_present_type</th><th scope=col>bone_marrow_malignant_cells</th><th scope=col>breslow_thickness</th><th scope=col>⋯</th><th scope=col>tumor_infiltrating_macrophages</th><th scope=col>tumor_largest_dimension_diameter</th><th scope=col>tumor_length_measurement</th><th scope=col>tumor_level_prostate</th><th scope=col>tumor_shape</th><th scope=col>tumor_thickness</th><th scope=col>tumor_width_measurement</th><th scope=col>vascular_invasion_present</th><th scope=col>vascular_invasion_type</th><th scope=col>zone_of_origin_prostate</th></tr>\n",
       "\t<tr><th></th><th scope=col>&lt;chr&gt;</th><th scope=col>&lt;chr&gt;</th><th scope=col>&lt;chr&gt;</th><th scope=col>&lt;chr&gt;</th><th scope=col>&lt;chr&gt;</th><th scope=col>&lt;lgl&gt;</th><th scope=col>&lt;lgl&gt;</th><th scope=col>&lt;lgl&gt;</th><th scope=col>&lt;lgl&gt;</th><th scope=col>&lt;lgl&gt;</th><th scope=col>⋯</th><th scope=col>&lt;lgl&gt;</th><th scope=col>&lt;lgl&gt;</th><th scope=col>&lt;lgl&gt;</th><th scope=col>&lt;lgl&gt;</th><th scope=col>&lt;lgl&gt;</th><th scope=col>&lt;lgl&gt;</th><th scope=col>&lt;lgl&gt;</th><th scope=col>&lt;lgl&gt;</th><th scope=col>&lt;lgl&gt;</th><th scope=col>&lt;lgl&gt;</th></tr>\n",
       "</thead>\n",
       "<tbody>\n",
       "\t<tr><th scope=row>1</th><td>001ad307-4ad3-4f1d-b2fc-efc032871c7e</td><td>TCGA-HT-A614</td><td>TCGA-LGG</td><td>1c63a839-547e-59c4-abd5-c7c1c0960656</td><td>TCGA-HT-A614_diagnosis</td><td>NA</td><td>NA</td><td>NA</td><td>NA</td><td>NA</td><td>⋯</td><td>NA</td><td>NA</td><td>NA</td><td>NA</td><td>NA</td><td>NA</td><td>NA</td><td>NA</td><td>NA</td><td>NA</td></tr>\n",
       "\t<tr><th scope=row>2</th><td>0061e9ef-df6a-414e-af64-c88f8192e2d3</td><td>TCGA-E1-5311</td><td>TCGA-LGG</td><td>52ea209b-6f5e-51f8-9713-3102640183fa</td><td>TCGA-E1-5311_diagnosis</td><td>NA</td><td>NA</td><td>NA</td><td>NA</td><td>NA</td><td>⋯</td><td>NA</td><td>NA</td><td>NA</td><td>NA</td><td>NA</td><td>NA</td><td>NA</td><td>NA</td><td>NA</td><td>NA</td></tr>\n",
       "\t<tr><th scope=row>3</th><td>0073a136-d5f4-4fd6-88f9-711768f2abc6</td><td>TCGA-VM-A8CF</td><td>TCGA-LGG</td><td>679e9de4-708c-5a80-a0f0-e3338b49867e</td><td>TCGA-VM-A8CF_diagnosis</td><td>NA</td><td>NA</td><td>NA</td><td>NA</td><td>NA</td><td>⋯</td><td>NA</td><td>NA</td><td>NA</td><td>NA</td><td>NA</td><td>NA</td><td>NA</td><td>NA</td><td>NA</td><td>NA</td></tr>\n",
       "</tbody>\n",
       "</table>\n"
      ],
      "text/latex": [
       "A data.frame: 3 × 86\n",
       "\\begin{tabular}{r|lllllllllllllllllllll}\n",
       "  & case\\_id & case\\_submitter\\_id & project\\_id & diagnosis\\_id & diagnosis\\_submitter\\_id & additional\\_pathology\\_findings & anaplasia\\_present & anaplasia\\_present\\_type & bone\\_marrow\\_malignant\\_cells & breslow\\_thickness & ⋯ & tumor\\_infiltrating\\_macrophages & tumor\\_largest\\_dimension\\_diameter & tumor\\_length\\_measurement & tumor\\_level\\_prostate & tumor\\_shape & tumor\\_thickness & tumor\\_width\\_measurement & vascular\\_invasion\\_present & vascular\\_invasion\\_type & zone\\_of\\_origin\\_prostate\\\\\n",
       "  & <chr> & <chr> & <chr> & <chr> & <chr> & <lgl> & <lgl> & <lgl> & <lgl> & <lgl> & ⋯ & <lgl> & <lgl> & <lgl> & <lgl> & <lgl> & <lgl> & <lgl> & <lgl> & <lgl> & <lgl>\\\\\n",
       "\\hline\n",
       "\t1 & 001ad307-4ad3-4f1d-b2fc-efc032871c7e & TCGA-HT-A614 & TCGA-LGG & 1c63a839-547e-59c4-abd5-c7c1c0960656 & TCGA-HT-A614\\_diagnosis & NA & NA & NA & NA & NA & ⋯ & NA & NA & NA & NA & NA & NA & NA & NA & NA & NA\\\\\n",
       "\t2 & 0061e9ef-df6a-414e-af64-c88f8192e2d3 & TCGA-E1-5311 & TCGA-LGG & 52ea209b-6f5e-51f8-9713-3102640183fa & TCGA-E1-5311\\_diagnosis & NA & NA & NA & NA & NA & ⋯ & NA & NA & NA & NA & NA & NA & NA & NA & NA & NA\\\\\n",
       "\t3 & 0073a136-d5f4-4fd6-88f9-711768f2abc6 & TCGA-VM-A8CF & TCGA-LGG & 679e9de4-708c-5a80-a0f0-e3338b49867e & TCGA-VM-A8CF\\_diagnosis & NA & NA & NA & NA & NA & ⋯ & NA & NA & NA & NA & NA & NA & NA & NA & NA & NA\\\\\n",
       "\\end{tabular}\n"
      ],
      "text/markdown": [
       "\n",
       "A data.frame: 3 × 86\n",
       "\n",
       "| <!--/--> | case_id &lt;chr&gt; | case_submitter_id &lt;chr&gt; | project_id &lt;chr&gt; | diagnosis_id &lt;chr&gt; | diagnosis_submitter_id &lt;chr&gt; | additional_pathology_findings &lt;lgl&gt; | anaplasia_present &lt;lgl&gt; | anaplasia_present_type &lt;lgl&gt; | bone_marrow_malignant_cells &lt;lgl&gt; | breslow_thickness &lt;lgl&gt; | ⋯ ⋯ | tumor_infiltrating_macrophages &lt;lgl&gt; | tumor_largest_dimension_diameter &lt;lgl&gt; | tumor_length_measurement &lt;lgl&gt; | tumor_level_prostate &lt;lgl&gt; | tumor_shape &lt;lgl&gt; | tumor_thickness &lt;lgl&gt; | tumor_width_measurement &lt;lgl&gt; | vascular_invasion_present &lt;lgl&gt; | vascular_invasion_type &lt;lgl&gt; | zone_of_origin_prostate &lt;lgl&gt; |\n",
       "|---|---|---|---|---|---|---|---|---|---|---|---|---|---|---|---|---|---|---|---|---|---|\n",
       "| 1 | 001ad307-4ad3-4f1d-b2fc-efc032871c7e | TCGA-HT-A614 | TCGA-LGG | 1c63a839-547e-59c4-abd5-c7c1c0960656 | TCGA-HT-A614_diagnosis | NA | NA | NA | NA | NA | ⋯ | NA | NA | NA | NA | NA | NA | NA | NA | NA | NA |\n",
       "| 2 | 0061e9ef-df6a-414e-af64-c88f8192e2d3 | TCGA-E1-5311 | TCGA-LGG | 52ea209b-6f5e-51f8-9713-3102640183fa | TCGA-E1-5311_diagnosis | NA | NA | NA | NA | NA | ⋯ | NA | NA | NA | NA | NA | NA | NA | NA | NA | NA |\n",
       "| 3 | 0073a136-d5f4-4fd6-88f9-711768f2abc6 | TCGA-VM-A8CF | TCGA-LGG | 679e9de4-708c-5a80-a0f0-e3338b49867e | TCGA-VM-A8CF_diagnosis | NA | NA | NA | NA | NA | ⋯ | NA | NA | NA | NA | NA | NA | NA | NA | NA | NA |\n",
       "\n"
      ],
      "text/plain": [
       "  case_id                              case_submitter_id project_id\n",
       "1 001ad307-4ad3-4f1d-b2fc-efc032871c7e TCGA-HT-A614      TCGA-LGG  \n",
       "2 0061e9ef-df6a-414e-af64-c88f8192e2d3 TCGA-E1-5311      TCGA-LGG  \n",
       "3 0073a136-d5f4-4fd6-88f9-711768f2abc6 TCGA-VM-A8CF      TCGA-LGG  \n",
       "  diagnosis_id                         diagnosis_submitter_id\n",
       "1 1c63a839-547e-59c4-abd5-c7c1c0960656 TCGA-HT-A614_diagnosis\n",
       "2 52ea209b-6f5e-51f8-9713-3102640183fa TCGA-E1-5311_diagnosis\n",
       "3 679e9de4-708c-5a80-a0f0-e3338b49867e TCGA-VM-A8CF_diagnosis\n",
       "  additional_pathology_findings anaplasia_present anaplasia_present_type\n",
       "1 NA                            NA                NA                    \n",
       "2 NA                            NA                NA                    \n",
       "3 NA                            NA                NA                    \n",
       "  bone_marrow_malignant_cells breslow_thickness ⋯\n",
       "1 NA                          NA                ⋯\n",
       "2 NA                          NA                ⋯\n",
       "3 NA                          NA                ⋯\n",
       "  tumor_infiltrating_macrophages tumor_largest_dimension_diameter\n",
       "1 NA                             NA                              \n",
       "2 NA                             NA                              \n",
       "3 NA                             NA                              \n",
       "  tumor_length_measurement tumor_level_prostate tumor_shape tumor_thickness\n",
       "1 NA                       NA                   NA          NA             \n",
       "2 NA                       NA                   NA          NA             \n",
       "3 NA                       NA                   NA          NA             \n",
       "  tumor_width_measurement vascular_invasion_present vascular_invasion_type\n",
       "1 NA                      NA                        NA                    \n",
       "2 NA                      NA                        NA                    \n",
       "3 NA                      NA                        NA                    \n",
       "  zone_of_origin_prostate\n",
       "1 NA                     \n",
       "2 NA                     \n",
       "3 NA                     "
      ]
     },
     "metadata": {},
     "output_type": "display_data"
    },
    {
     "name": "stdout",
     "output_type": "stream",
     "text": [
      "Number of columns: 86 \n",
      "case_id, case_submitter_id, project_id, diagnosis_id, diagnosis_submitter_id, additional_pathology_findings, anaplasia_present, anaplasia_present_type, bone_marrow_malignant_cells, breslow_thickness \n",
      "circumferential_resection_margin, columnar_mucosa_present, consistent_pathology_review, days_to_pathology_detail, dysplasia_degree, dysplasia_type, epithelioid_cell_percent, epithelioid_cell_percent_range, extracapsular_extension, extracapsular_extension_present \n",
      "extranodal_extension, extraocular_nodule_size, extrascleral_extension, extrascleral_extension_present, extrathyroid_extension, greatest_tumor_dimension, gross_tumor_weight, histologic_progression_type, intratubular_germ_cell_neoplasia_present, largest_extrapelvic_peritoneal_focus \n",
      "lymph_node_dissection_method, lymph_node_dissection_site, lymph_node_involved_site, lymph_node_involvement, lymph_nodes_positive, lymph_nodes_removed, lymph_nodes_tested, lymphatic_invasion_present, margin_status, measurement_type \n",
      "measurement_unit, metaplasia_present, micrometastasis_present, morphologic_architectural_pattern, necrosis_percent, necrosis_present, non_nodal_regional_disease, non_nodal_tumor_deposits, number_proliferating_cells, pathology_detail_id \n",
      "pathology_detail_submitter_id, percent_tumor_invasion, percent_tumor_nuclei, perineural_invasion_present, peripancreatic_lymph_nodes_positive, peripancreatic_lymph_nodes_tested, prcc_type, prostatic_chips_positive_count, prostatic_chips_total_count, prostatic_involvement_percent \n",
      "residual_tumor, residual_tumor_measurement, rhabdoid_percent, rhabdoid_present, sarcomatoid_percent, sarcomatoid_present, size_extraocular_nodule, spindle_cell_percent, spindle_cell_percent_range, timepoint_category \n",
      "transglottic_extension, tumor_basal_diameter, tumor_burden, tumor_depth_descriptor, tumor_depth_measurement, tumor_infiltrating_lymphocytes, tumor_infiltrating_macrophages, tumor_largest_dimension_diameter, tumor_length_measurement, tumor_level_prostate \n",
      "tumor_shape, tumor_thickness, tumor_width_measurement, vascular_invasion_present, vascular_invasion_type, zone_of_origin_prostate \n"
     ]
    }
   ],
   "source": [
    "head(pathology_details, 3)\n",
    "\n",
    "cols_number <- ncol(pathology_details)\n",
    "cat(\"Number of columns:\", cols_number, \"\\n\")\n",
    "\n",
    "period = 10\n",
    "# Print column names in groups\n",
    "for (i in 0:floor((cols_number-1)/period)) {\n",
    "  start_idx <- i*period + 1\n",
    "  end_idx <- min((i+1)*period, cols_number)\n",
    "  cat(paste(colnames(pathology_details)[start_idx:end_idx], collapse=\", \"), \"\\n\")\n",
    "}"
   ]
  },
  {
   "cell_type": "code",
   "execution_count": 124,
   "metadata": {
    "vscode": {
     "languageId": "r"
    }
   },
   "outputs": [
    {
     "name": "stdout",
     "output_type": "stream",
     "text": [
      "greatest_tumor_dimension: NA \n",
      "tumor_width_measurement: NA \n",
      "tumor_largest_dimension_diameter: NA \n",
      "anaplasia_present: NA \n"
     ]
    }
   ],
   "source": [
    "cat(\"greatest_tumor_dimension:\", unique(pathology_details$greatest_tumor_dimension), \"\\n\")\n",
    "cat(\"tumor_width_measurement:\", unique(pathology_details$tumor_width_measurement), \"\\n\") \n",
    "cat(\"tumor_largest_dimension_diameter:\", unique(pathology_details$tumor_largest_dimension_diameter), \"\\n\")\n",
    "cat(\"anaplasia_present:\", unique(pathology_details$anaplasia_present), \"\\n\")"
   ]
  }
 ],
 "metadata": {
  "kernelspec": {
   "display_name": "R",
   "language": "R",
   "name": "ir"
  },
  "language_info": {
   "codemirror_mode": "r",
   "file_extension": ".r",
   "mimetype": "text/x-r-source",
   "name": "R",
   "pygments_lexer": "r",
   "version": "4.3.3"
  }
 },
 "nbformat": 4,
 "nbformat_minor": 2
}
