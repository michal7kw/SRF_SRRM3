{
 "cells": [
  {
   "cell_type": "markdown",
   "metadata": {},
   "source": [
    "# Environment"
   ]
  },
  {
   "cell_type": "code",
   "execution_count": 5,
   "metadata": {},
   "outputs": [],
   "source": [
    "import pandas as pd\n",
    "import numpy as np\n",
    "import gzip\n",
    "import matplotlib.pyplot as plt\n",
    "import seaborn as sns\n",
    "import os\n",
    "import pickle\n",
    "import gc"
   ]
  },
  {
   "cell_type": "code",
   "execution_count": null,
   "metadata": {},
   "outputs": [],
   "source": [
    "# Set the current working directory\n",
    "os.chdir('/beegfs/scratch/ric.broccoli/kubacki.michal/SRF_SRRM3')\n",
    "\n",
    "# Print the current working directory to confirm the change\n",
    "print(f\"Current working directory: {os.getcwd()}\")\n"
   ]
  },
  {
   "cell_type": "markdown",
   "metadata": {},
   "source": [
    "# Local Functions"
   ]
  },
  {
   "cell_type": "code",
   "execution_count": 7,
   "metadata": {},
   "outputs": [],
   "source": [
    "def load_gtex_data(file_path):\n",
    "    \"\"\"\n",
    "    Load GTEx .gct.gz file into a pandas DataFrame\n",
    "    \n",
    "    Parameters:\n",
    "    file_path (str): Path to the GTEx gct.gz file\n",
    "    \n",
    "    Returns:\n",
    "    tuple: (data_df, description_df, metadata_dict)\n",
    "    \"\"\"\n",
    "    # Read the first few lines to get metadata\n",
    "    with gzip.open(file_path, 'rt') as f:\n",
    "        version = f.readline().strip()  # First line: version\n",
    "        dims = f.readline().strip().split('\\t')  # Second line: dimensions\n",
    "        \n",
    "    # Parse dimensions\n",
    "    n_genes, n_samples = map(int, dims)\n",
    "    \n",
    "    # Read the actual data, skipping the first two metadata lines\n",
    "    # GCT format has gene names in first column, descriptions in second column\n",
    "    data_df = pd.read_csv(file_path, \n",
    "                         compression='gzip',\n",
    "                         sep='\\t', \n",
    "                         skiprows=2)\n",
    "    \n",
    "    # Separate gene descriptions from expression data\n",
    "    description_df = data_df.iloc[:, :2]\n",
    "    expression_df = data_df.iloc[:, 2:]\n",
    "    \n",
    "    # Set gene names as index\n",
    "    expression_df.index = data_df.iloc[:, 0]\n",
    "    \n",
    "    # Create metadata dictionary\n",
    "    metadata = {\n",
    "        'version': version,\n",
    "        'n_genes': n_genes,\n",
    "        'n_samples': n_samples\n",
    "    }\n",
    "    \n",
    "    return expression_df, description_df, metadata\n",
    "\n",
    "def basic_analysis(expression_df):\n",
    "    \"\"\"\n",
    "    Perform basic analysis on the expression data\n",
    "    \n",
    "    Parameters:\n",
    "    expression_df (pd.DataFrame): Expression data matrix\n",
    "    \n",
    "    Returns:\n",
    "    dict: Dictionary containing analysis results\n",
    "    \"\"\"\n",
    "    analysis = {\n",
    "        'total_transcripts': len(expression_df),\n",
    "        'total_samples': len(expression_df.columns),\n",
    "        'mean_expression': expression_df.mean().mean(),\n",
    "        'median_expression': expression_df.median().median(),\n",
    "        'non_zero_fraction': (expression_df > 0).mean().mean() * 100,\n",
    "        'genes_detected_per_sample': (expression_df > 0).sum(),\n",
    "        'sample_stats': expression_df.describe()\n",
    "    }\n",
    "    return analysis\n",
    "\n",
    "def filter_low_expression(expression_df, min_tpm=1, min_samples=10):\n",
    "    \"\"\"\n",
    "    Filter out lowly expressed transcripts\n",
    "    \n",
    "    Parameters:\n",
    "    expression_df (pd.DataFrame): Expression data matrix\n",
    "    min_tpm (float): Minimum TPM threshold\n",
    "    min_samples (int): Minimum number of samples that must exceed min_tpm\n",
    "    \n",
    "    Returns:\n",
    "    pd.DataFrame: Filtered expression matrix\n",
    "    \"\"\"\n",
    "    # Count samples exceeding threshold for each transcript\n",
    "    samples_above_threshold = (expression_df >= min_tpm).sum(axis=1)\n",
    "    \n",
    "    # Filter transcripts\n",
    "    filtered_df = expression_df[samples_above_threshold >= min_samples]\n",
    "    \n",
    "    return filtered_df\n",
    "\n",
    "def plot_expression_distribution(expression_df, output_file=None):\n",
    "    \"\"\"\n",
    "    Plot distribution of expression values\n",
    "    \n",
    "    Parameters:\n",
    "    expression_df (pd.DataFrame): Expression data matrix\n",
    "    output_file (str): Optional path to save the plot\n",
    "    \"\"\"\n",
    "    plt.figure(figsize=(10, 6))\n",
    "    \n",
    "    # Calculate mean expression per transcript\n",
    "    mean_expression = expression_df.mean(axis=1)\n",
    "    \n",
    "    # Plot distribution of log2 transformed mean expression\n",
    "    sns.histplot(np.log2(mean_expression + 1), bins=50)\n",
    "    plt.xlabel('Log2(TPM + 1)')\n",
    "    plt.ylabel('Count')\n",
    "    plt.title('Distribution of Mean Expression Values')\n",
    "    \n",
    "    if output_file:\n",
    "        plt.savefig(output_file)\n",
    "    plt.close()"
   ]
  },
  {
   "cell_type": "code",
   "execution_count": 8,
   "metadata": {},
   "outputs": [],
   "source": [
    "# %% Function to load brain region data\n",
    "def load_brain_data(file_list):\n",
    "    \"\"\"\n",
    "    Load GTEx brain region-specific data files\n",
    "    \n",
    "    Parameters:\n",
    "    file_list (list): List of file paths for brain region data\n",
    "    \n",
    "    Returns:\n",
    "    dict: Dictionary with region names as keys and DataFrames as values\n",
    "    \"\"\"\n",
    "    brain_data = {}\n",
    "    \n",
    "    for file_path in file_list:\n",
    "        # Extract region name from file path\n",
    "        region = file_path.split('gene_tpm_2017-06-05_v8_brain_')[1].split('.gct.gz')[0]\n",
    "        print(f\"Loading data for {region}...\")\n",
    "        \n",
    "        try:\n",
    "            # Load data\n",
    "            expr_df, desc_df, meta = load_gtex_data(file_path)\n",
    "            \n",
    "            # Store in dictionary\n",
    "            brain_data[region] = {\n",
    "                'expression': expr_df,\n",
    "                'description': desc_df,\n",
    "                'metadata': meta\n",
    "            }\n",
    "        except Exception as e:\n",
    "            print(f\"Error loading {region}: {str(e)}\")\n",
    "            continue\n",
    "    \n",
    "    return brain_data\n",
    "\n",
    "# %% Modified function to load GCT files\n",
    "def load_gtex_data(file_path):\n",
    "    \"\"\"\n",
    "    Load GTEx .gct.gz file into a pandas DataFrame\n",
    "    \n",
    "    Parameters:\n",
    "    file_path (str): Path to the GTEx gct.gz file\n",
    "    \n",
    "    Returns:\n",
    "    tuple: (data_df, description_df, metadata_dict)\n",
    "    \"\"\"\n",
    "    # Read the first few lines to get metadata\n",
    "    with gzip.open(file_path, 'rt') as f:\n",
    "        version = f.readline().strip()  # First line: version\n",
    "        dims_line = f.readline().strip().split('\\t')  # Second line: dimensions\n",
    "        \n",
    "    # Parse dimensions - take first two numbers regardless of format\n",
    "    n_genes = int(dims_line[0])\n",
    "    n_samples = int(dims_line[1])\n",
    "    \n",
    "    # Read the actual data\n",
    "    data_df = pd.read_csv(file_path, \n",
    "                         compression='gzip',\n",
    "                         sep='\\t', \n",
    "                         skiprows=2)\n",
    "    \n",
    "    # Get the first two columns (Name/Description or gene_id/gene_name)\n",
    "    first_col = data_df.columns[0]\n",
    "    second_col = data_df.columns[1]\n",
    "    \n",
    "    # Separate gene descriptions from expression data\n",
    "    description_df = data_df.iloc[:, :2].copy()\n",
    "    description_df.columns = ['gene_id', 'gene_name']  # Rename columns consistently\n",
    "    \n",
    "    # Create expression DataFrame\n",
    "    expression_df = data_df.iloc[:, 2:]\n",
    "    expression_df.index = data_df[first_col]  # Use first column as index\n",
    "    \n",
    "    metadata = {\n",
    "        'version': version,\n",
    "        'n_genes': n_genes,\n",
    "        'n_samples': n_samples\n",
    "    }\n",
    "    \n",
    "    return expression_df, description_df, metadata"
   ]
  },
  {
   "cell_type": "markdown",
   "metadata": {},
   "source": [
    "# Load - full GTEx data"
   ]
  },
  {
   "cell_type": "markdown",
   "metadata": {},
   "source": [
    "[The GTEx Analysis V8 release](https://gtexportal.org/home/downloads/adult-gtex/bulk_tissue_expression)"
   ]
  },
  {
   "cell_type": "code",
   "execution_count": 9,
   "metadata": {},
   "outputs": [],
   "source": [
    "%%script false --no-raise-error\n",
    "file_path = \"./DATA/GTEx/GTEx_Analysis_2017-06-05_v8_RSEMv1.3.0_transcript_tpm.gct.gz\"\n",
    "\n",
    "# Load data\n",
    "expression_df, description_df, metadata = load_gtex_data(file_path)"
   ]
  },
  {
   "cell_type": "code",
   "execution_count": 10,
   "metadata": {},
   "outputs": [],
   "source": [
    "pickle_file = \"./DATA/GTEx/gtex_data.pkl\""
   ]
  },
  {
   "cell_type": "code",
   "execution_count": 11,
   "metadata": {},
   "outputs": [],
   "source": [
    "%%script false --no-raise-error\n",
    "with open(pickle_file, 'wb') as f:\n",
    "    pickle.dump((expression_df, description_df, metadata), f)\n",
    "print(\"Data loaded from original file and saved to pickle file.\")"
   ]
  },
  {
   "cell_type": "code",
   "execution_count": null,
   "metadata": {},
   "outputs": [],
   "source": [
    "if os.path.exists(pickle_file):\n",
    "    # Load data from pickle file if it exists\n",
    "    with open(pickle_file, 'rb') as f:\n",
    "        expression_df, description_df, metadata = pickle.load(f)\n",
    "    print(\"Data loaded from pickle file.\")\n",
    "else:\n",
    "    print(\"Pickle file does not exist. Please run the script to create it.\")"
   ]
  },
  {
   "cell_type": "code",
   "execution_count": null,
   "metadata": {},
   "outputs": [],
   "source": [
    "# Print basic information\n",
    "print(f\"Dataset version: {metadata['version']}\")\n",
    "print(f\"Number of transcripts: {metadata['n_genes']}\")\n",
    "print(f\"Number of samples: {metadata['n_samples']}\")"
   ]
  },
  {
   "cell_type": "code",
   "execution_count": null,
   "metadata": {},
   "outputs": [],
   "source": [
    "print(type(expression_df))\n",
    "expression_df.head()\n"
   ]
  },
  {
   "cell_type": "markdown",
   "metadata": {},
   "source": [
    "Genes metadata"
   ]
  },
  {
   "cell_type": "code",
   "execution_count": null,
   "metadata": {},
   "outputs": [],
   "source": [
    "print(type(description_df))\n",
    "description_df.head()\n"
   ]
  },
  {
   "cell_type": "code",
   "execution_count": null,
   "metadata": {},
   "outputs": [],
   "source": [
    "type(metadata)\n",
    "metadata"
   ]
  },
  {
   "cell_type": "code",
   "execution_count": 17,
   "metadata": {},
   "outputs": [],
   "source": [
    "%%script false --no-raise-error\n",
    "# Perform basic analysis\n",
    "analysis_results = basic_analysis(expression_df)\n",
    "print(\"\\nBasic Analysis Results:\")\n",
    "for key, value in analysis_results.items():\n",
    "    if not isinstance(value, pd.DataFrame):\n",
    "        print(f\"{key}: {value}\")"
   ]
  },
  {
   "cell_type": "code",
   "execution_count": 18,
   "metadata": {},
   "outputs": [],
   "source": [
    "%%script false --no-raise-error\n",
    "# Filter low expression\n",
    "filtered_df = filter_low_expression(expression_df, min_tpm=1, min_samples=10)\n",
    "print(f\"\\nTranscripts after filtering: {len(filtered_df)}\")\n",
    "\n",
    "# Plot expression distribution\n",
    "plot_expression_distribution(filtered_df, \"expression_distribution.png\")"
   ]
  },
  {
   "cell_type": "markdown",
   "metadata": {},
   "source": [
    "# Look for SRRM3 - full GTEx data"
   ]
  },
  {
   "cell_type": "markdown",
   "metadata": {},
   "source": [
    "# Examined ACCESSION numbers:\n",
    "\n",
    "## From NCBI:\n",
    "\n",
    "- [NM_001110199.3](https://www.ncbi.nlm.nih.gov/nuccore/NM_001110199.3/) (Ensembl match: ENST00000611745.2/ENSP00000480851.1)\n",
    "- [NM_001291831.2](https://www.ncbi.nlm.nih.gov/nuccore/NM_001291831.2/) (None)\n",
    "\n",
    "## From Ensembl:\n",
    "\n",
    "- [ENSG00000177679](https://www.ensembl.org/Homo_sapiens/Gene/Summary?db=core;g=ENSG00000177679;r=7:76201896-76287288)\n"
   ]
  },
  {
   "cell_type": "code",
   "execution_count": 19,
   "metadata": {},
   "outputs": [],
   "source": [
    "# %% Define the canonical and noncanonical NCBI IDs\n",
    "canonical_refseq = \"NM_001110199.3\"\n",
    "noncanonical_refseq = \"NM_001291831.2\""
   ]
  },
  {
   "cell_type": "code",
   "execution_count": null,
   "metadata": {},
   "outputs": [],
   "source": [
    "# %% Look for SRRM3 - Ensembl ID\n",
    "srrm3_entries = description_df[description_df['gene_id'].str.contains('ENSG00000177679', na=False)]\n",
    "print(\"SRRM3 transcripts found:\")\n",
    "print(srrm3_entries)"
   ]
  },
  {
   "cell_type": "code",
   "execution_count": null,
   "metadata": {},
   "outputs": [],
   "source": [
    "# %% Get expression data for these transcripts\n",
    "srrm3_transcripts = expression_df.loc[srrm3_entries['transcript_id']]\n",
    "print(\"\\nExpression data shape:\", srrm3_transcripts.shape)\n",
    "\n",
    "# %% Get basic statistics for each transcript\n",
    "stats = pd.DataFrame({\n",
    "    'mean': srrm3_transcripts.mean(axis=1),\n",
    "    'median': srrm3_transcripts.median(axis=1),\n",
    "    'std': srrm3_transcripts.std(axis=1),\n",
    "    'non_zero_samples': (srrm3_transcripts > 0).sum(axis=1)\n",
    "})\n",
    "print(\"\\nTranscript statistics:\")\n",
    "print(stats)\n",
    "\n",
    "# %% Look for our transcript of interest (MANE Select)\n",
    "mane_select = \"ENST00000611745\"  # This corresponds to NM_001110199.3 (variant without exon 15)\n",
    "mane_transcripts = [t for t in srrm3_transcripts.index if t.startswith(mane_select)]\n",
    "if mane_transcripts:\n",
    "    print(f\"\\nFound MANE Select transcript: {mane_transcripts[0]}\")\n",
    "    print(f\"Mean expression: {srrm3_transcripts.loc[mane_transcripts[0]].mean():.2f} TPM\")\n",
    "else:\n",
    "    print(f\"\\nMANE Select transcript {mane_select} not found\")"
   ]
  },
  {
   "cell_type": "code",
   "execution_count": null,
   "metadata": {},
   "outputs": [],
   "source": [
    "# %% Plot expression distribution\n",
    "plt.figure(figsize=(12, 6))\n",
    "sns.boxplot(data=srrm3_transcripts.T)\n",
    "plt.xticks(rotation=45, ha='right')\n",
    "plt.title('Expression Distribution of SRRM3 Transcripts')\n",
    "plt.ylabel('TPM')\n",
    "plt.tight_layout()\n",
    "plt.show()"
   ]
  },
  {
   "cell_type": "markdown",
   "metadata": {},
   "source": [
    "# From the literature:\n",
    "- [Pancreatic microexons regulate islet function and glucose homeostasis](https://www.nature.com/articles/s42255-022-00734-2)\n",
    "    - **ENST00000611745:** This isoform contains the **enhancer of microexons domain (eMIC)**.\n",
    "    - **ENST00000612155:** This isoform has a **truncated eMIC domain**."
   ]
  },
  {
   "cell_type": "code",
   "execution_count": null,
   "metadata": {},
   "outputs": [],
   "source": [
    "# %% Find eMIC transcripts\n",
    "srrm3_eMIC = description_df[description_df['transcript_id'].str.contains('ENST00000611745', na=False)]\n",
    "print(\"SRRM3 transcripts found:\")\n",
    "print(srrm3_eMIC)"
   ]
  },
  {
   "cell_type": "code",
   "execution_count": null,
   "metadata": {},
   "outputs": [],
   "source": [
    "# %% Find truncated eMIC transcripts\n",
    "srrm3_truncated = description_df[description_df['transcript_id'].str.contains('ENST00000612155', na=False)]\n",
    "print(\"SRRM3 transcripts found:\")\n",
    "print(srrm3_truncated)"
   ]
  },
  {
   "cell_type": "markdown",
   "metadata": {},
   "source": [
    "# Add tissue metadata"
   ]
  },
  {
   "cell_type": "code",
   "execution_count": 25,
   "metadata": {},
   "outputs": [],
   "source": [
    "# %% Load the sample attributes file\n",
    "sample_attributes = pd.read_csv('./DATA/GTEx/GTEx_Analysis_v8_Annotations_SampleAttributesDS.txt', sep='\\t')"
   ]
  },
  {
   "cell_type": "code",
   "execution_count": null,
   "metadata": {},
   "outputs": [],
   "source": [
    "print(sample_attributes.shape)  \n",
    "print(expression_df.shape)"
   ]
  },
  {
   "cell_type": "code",
   "execution_count": null,
   "metadata": {},
   "outputs": [],
   "source": [
    "sample_attributes.head()"
   ]
  },
  {
   "cell_type": "code",
   "execution_count": null,
   "metadata": {},
   "outputs": [],
   "source": [
    "sample_attributes.SMTSD.value_counts()"
   ]
  },
  {
   "cell_type": "code",
   "execution_count": null,
   "metadata": {},
   "outputs": [],
   "source": [
    "sample_attributes[sample_attributes.SMTS == \"Brain\"].SMTSD.value_counts()"
   ]
  },
  {
   "cell_type": "code",
   "execution_count": 30,
   "metadata": {},
   "outputs": [],
   "source": [
    "# %% Create a mapping dictionary from sample ID to tissue type\n",
    "tissue_mapping = pd.Series(sample_attributes.SMTSD.values, \n",
    "                          index=sample_attributes.SAMPID).to_dict()"
   ]
  },
  {
   "cell_type": "code",
   "execution_count": null,
   "metadata": {},
   "outputs": [],
   "source": [
    "pd.Series(expression_df.columns).map(tissue_mapping)[:10]"
   ]
  },
  {
   "cell_type": "code",
   "execution_count": 32,
   "metadata": {},
   "outputs": [],
   "source": [
    "# %% Create MultiIndex dataframe with tissue information\n",
    "def get_tissue_types(expression_df, sample_attributes):\n",
    "    \"\"\"Add tissue type information to expression data\"\"\"\n",
    "    # Create tissue mapping\n",
    "    tissue_mapping = pd.Series(sample_attributes.SMTSD.values, \n",
    "                             index=sample_attributes.SAMPID).to_dict()\n",
    "    \n",
    "    # Get tissue types for each sample\n",
    "    tissue_types = pd.Series(expression_df.columns).map(tissue_mapping)\n",
    "    \n",
    "    # Create MultiIndex columns\n",
    "    multi_index = pd.MultiIndex.from_arrays(\n",
    "        [tissue_types, expression_df.columns],\n",
    "        names=['tissue_type', 'sample_id']\n",
    "    )\n",
    "    \n",
    "    # Create new dataframe with tissue information\n",
    "    expression_with_tissue = expression_df.copy()\n",
    "    expression_with_tissue.columns = multi_index\n",
    "    \n",
    "    return expression_with_tissue"
   ]
  },
  {
   "cell_type": "code",
   "execution_count": null,
   "metadata": {},
   "outputs": [],
   "source": [
    "gc.collect()"
   ]
  },
  {
   "cell_type": "code",
   "execution_count": null,
   "metadata": {},
   "outputs": [],
   "source": [
    "# %% Apply the transformation\n",
    "expression_with_tissue = get_tissue_types(expression_df, sample_attributes)"
   ]
  },
  {
   "cell_type": "code",
   "execution_count": null,
   "metadata": {},
   "outputs": [],
   "source": [
    "expression_with_tissue.head()"
   ]
  },
  {
   "cell_type": "code",
   "execution_count": null,
   "metadata": {},
   "outputs": [],
   "source": [
    "expression_with_tissue.index"
   ]
  },
  {
   "cell_type": "code",
   "execution_count": null,
   "metadata": {},
   "outputs": [],
   "source": [
    "expression_with_tissue[\"gene_id\"] = expression_with_tissue.index.str.split('.').str[0]\n"
   ]
  },
  {
   "cell_type": "code",
   "execution_count": null,
   "metadata": {},
   "outputs": [],
   "source": [
    "import mygene\n",
    "\n",
    "# Remove version numbers from gene IDs\n",
    "sel_genes_no_version = expression_with_tissue[\"gene_id\"]\n",
    "\n",
    "# Initialize mygene client and query\n",
    "mg = mygene.MyGeneInfo()\n",
    "results = mg.querymany(sel_genes_no_version.unique(), \n",
    "                      scopes='ensembl.gene', \n",
    "                      fields='symbol', \n",
    "                      species='human')\n",
    "\n",
    "# Create mapping dictionary from gene ID to symbol\n",
    "gene_to_symbol = {item['query']: item.get('symbol', '') \n",
    "                 for item in results if 'symbol' in item}\n",
    "\n",
    "# Map symbols to expression data\n",
    "expression_with_tissue[\"gene_name\"] = expression_with_tissue[\"gene_id\"].map(gene_to_symbol)"
   ]
  },
  {
   "cell_type": "code",
   "execution_count": null,
   "metadata": {},
   "outputs": [],
   "source": [
    "# Add gene names to enriched_overlaps_df3\n",
    "expression_with_tissue[\"gene_name\"] = [item.get('symbol', '') for item in results]\n",
    "expression_with_tissue.head()"
   ]
  },
  {
   "cell_type": "markdown",
   "metadata": {},
   "source": [
    "# Expression across tissues\n",
    "(`ENST00000611745.1`, `ENST00000612155.1`)"
   ]
  },
  {
   "cell_type": "code",
   "execution_count": 30,
   "metadata": {},
   "outputs": [],
   "source": [
    "# Define transcripts of interest\n",
    "transcripts_of_interest = ['ENST00000611745.1', 'ENST00000612155.1']"
   ]
  },
  {
   "cell_type": "code",
   "execution_count": null,
   "metadata": {},
   "outputs": [],
   "source": [
    "%%capture\n",
    "# %% Calculate mean expression by tissue\n",
    "tissue_means = expression_with_tissue.groupby(level='tissue_type', axis=1).mean()"
   ]
  },
  {
   "cell_type": "code",
   "execution_count": 38,
   "metadata": {},
   "outputs": [],
   "source": [
    "def analyze_transcript_expression(expression_with_tissue, transcripts):\n",
    "    \"\"\"Analyze expression of specific transcripts across tissues\"\"\"\n",
    "    \n",
    "    # Initialize lists to store results\n",
    "    results = []\n",
    "    \n",
    "    # Get expression data for specified transcripts\n",
    "    transcript_data = expression_with_tissue.loc[transcripts]\n",
    "    \n",
    "    # Calculate statistics for each tissue\n",
    "    for tissue in transcript_data.columns.get_level_values('tissue_type').unique():\n",
    "        tissue_data = transcript_data.loc[:, tissue]\n",
    "        \n",
    "        for transcript in transcripts:\n",
    "            transcript_values = tissue_data.loc[transcript]\n",
    "            results.append({\n",
    "                'tissue_type': tissue,\n",
    "                'transcript_id': transcript,\n",
    "                'mean': transcript_values.mean(),\n",
    "                'std': transcript_values.std(),\n",
    "                'count': len(transcript_values)\n",
    "            })\n",
    "    \n",
    "    # Convert to DataFrame\n",
    "    return pd.DataFrame(results)"
   ]
  },
  {
   "cell_type": "code",
   "execution_count": null,
   "metadata": {},
   "outputs": [],
   "source": [
    "gc.collect()"
   ]
  },
  {
   "cell_type": "code",
   "execution_count": 39,
   "metadata": {},
   "outputs": [],
   "source": [
    "# Get tissue means\n",
    "transcript_expression = analyze_transcript_expression(expression_with_tissue, transcripts_of_interest)"
   ]
  },
  {
   "cell_type": "code",
   "execution_count": null,
   "metadata": {},
   "outputs": [],
   "source": [
    "# %% Plot expression across tissues\n",
    "plt.figure(figsize=(15, 8))\n",
    "sns.barplot(data=transcript_expression, \n",
    "           x='tissue_type', \n",
    "           y='mean',\n",
    "           hue='transcript_id',\n",
    "           errorbar='sd',\n",
    "           capsize=0.1,\n",
    "           saturation=0.8)\n",
    "\n",
    "plt.xticks(rotation=90)\n",
    "plt.xlabel('Tissue')\n",
    "plt.ylabel('Mean Expression (TPM)')\n",
    "plt.title('SRRM3 Transcript Expression Across Tissues')\n",
    "plt.legend(title='Transcript ID', bbox_to_anchor=(1.05, 1), loc='upper left')\n",
    "plt.tight_layout()\n",
    "plt.show()"
   ]
  },
  {
   "cell_type": "code",
   "execution_count": null,
   "metadata": {},
   "outputs": [],
   "source": [
    "# Print summary statistics\n",
    "print(\"\\nSummary statistics for each transcript:\")\n",
    "for transcript in transcripts_of_interest:\n",
    "    transcript_data = transcript_expression[transcript_expression['transcript_id'] == transcript]\n",
    "    print(f\"\\n{transcript}:\")\n",
    "    print(f\"Highest expression in: {transcript_data.loc[transcript_data['mean'].idxmax(), 'tissue_type']}\")\n",
    "    print(f\"Mean expression across all tissues: {transcript_data['mean'].mean():.2f}\")\n",
    "    print(\"\\nTop 5 tissues by expression:\")\n",
    "    print(transcript_data.nlargest(5, 'mean')[['tissue_type', 'mean', 'std']])"
   ]
  },
  {
   "cell_type": "code",
   "execution_count": null,
   "metadata": {},
   "outputs": [],
   "source": [
    "# %% Create heatmap\n",
    "plt.figure(figsize=(15, 8))\n",
    "pivot_data = transcript_expression.pivot(\n",
    "    index='transcript_id', \n",
    "    columns='tissue_type', \n",
    "    values='mean'\n",
    ")\n",
    "sns.heatmap(pivot_data, \n",
    "            cmap='YlOrRd',\n",
    "            annot=False,\n",
    "            cbar_kws={'label': 'Mean Expression (TPM)'})\n",
    "plt.title('SRRM3 Transcript Expression Heatmap')\n",
    "plt.xticks(rotation=90)\n",
    "plt.tight_layout()\n",
    "plt.show()"
   ]
  },
  {
   "cell_type": "code",
   "execution_count": null,
   "metadata": {},
   "outputs": [],
   "source": [
    "# %% Add brain-specific analysis\n",
    "brain_tissues = [col for col in pivot_data.columns if 'Brain' in col]\n",
    "if brain_tissues:\n",
    "    # print(\"\\nBrain-specific expression:\")\n",
    "    brain_data = pivot_data[brain_tissues]\n",
    "    # print(brain_data)\n",
    "    \n",
    "    # Visualize brain-specific expression\n",
    "    plt.figure(figsize=(10, 6))\n",
    "    brain_data.T.plot(kind='bar')\n",
    "    plt.title('SRRM3 Transcript Expression in Brain Tissues')\n",
    "    plt.xlabel('Brain Region')\n",
    "    plt.ylabel('Mean Expression (TPM)')\n",
    "    plt.legend(title='Transcript ID', bbox_to_anchor=(1.05, 1), loc='upper left')\n",
    "    plt.tight_layout()\n",
    "    plt.show()"
   ]
  },
  {
   "cell_type": "markdown",
   "metadata": {},
   "source": [
    "# Load -  differnet brain regions GTEx data\n",
    "\n",
    "[Gene TPMs by tissue](https://gtexportal.org/home/downloads/adult-gtex/bulk_tissue_expression)"
   ]
  },
  {
   "cell_type": "markdown",
   "metadata": {},
   "source": [
    "## Load data"
   ]
  },
  {
   "cell_type": "code",
   "execution_count": 53,
   "metadata": {},
   "outputs": [],
   "source": [
    "%%script false --no-raise-error\n",
    "# %% Load brain region data\n",
    "brain_files = [\n",
    "    \"gene_tpm_2017-06-05_v8_brain_amygdala.gct.gz\",\n",
    "    \"gene_tpm_2017-06-05_v8_brain_nucleus_accumbens_basal_ganglia.gct.gz\",\n",
    "    \"gene_tpm_2017-06-05_v8_brain_anterior_cingulate_cortex_ba24.gct.gz\",\n",
    "    \"gene_tpm_2017-06-05_v8_brain_putamen_basal_ganglia.gct.gz\",\n",
    "    \"gene_tpm_2017-06-05_v8_brain_caudate_basal_ganglia.gct.gz\",\n",
    "    \"gene_tpm_2017-06-05_v8_brain_spinal_cord_cervical_c-1.gct.gz\",\n",
    "    \"gene_tpm_2017-06-05_v8_brain_cerebellar_hemisphere.gct.gz\",\n",
    "    \"gene_tpm_2017-06-05_v8_brain_substantia_nigra.gct.gz\",\n",
    "    \"gene_tpm_2017-06-05_v8_brain_cerebellum.gct.gz\",\n",
    "    \"gene_tpm_2017-06-05_v8_brain_cortex.gct.gz\",\n",
    "    \"gene_tpm_2017-06-05_v8_brain_frontal_cortex_ba9.gct.gz\",\n",
    "    \"gene_tpm_2017-06-05_v8_brain_hippocampus.gct.gz\",\n",
    "    \"gene_tpm_2017-06-05_v8_brain_hypothalamus.gct.gz\"\n",
    "]\n",
    "\n",
    "brain_data = load_brain_data(brain_files)"
   ]
  },
  {
   "cell_type": "code",
   "execution_count": 54,
   "metadata": {},
   "outputs": [],
   "source": [
    "brain_pickle = \"gtex_brain_data.pkl\""
   ]
  },
  {
   "cell_type": "code",
   "execution_count": 55,
   "metadata": {},
   "outputs": [],
   "source": [
    "%%script false --no-raise-error\n",
    "# %% Save to pickle\n",
    "print(\"Saving brain data to pickle file...\")\n",
    "with open(brain_pickle, 'wb') as f:\n",
    "    pickle.dump(brain_data, f)\n",
    "print(\"Data saved.\")"
   ]
  },
  {
   "cell_type": "code",
   "execution_count": null,
   "metadata": {},
   "outputs": [],
   "source": [
    "# %% Load brain data from pickle\n",
    "print(\"Loading brain data from pickle file...\")\n",
    "with open(brain_pickle, 'rb') as f:\n",
    "    brain_data = pickle.load(f)\n",
    "print(\"Data loaded.\")"
   ]
  },
  {
   "cell_type": "code",
   "execution_count": null,
   "metadata": {},
   "outputs": [],
   "source": [
    "# %% Verify the data format\n",
    "region = list(brain_data.keys())[0]\n",
    "print(f\"\\nRegion: {region}\")\n",
    "print(\"\\nDescription data shape:\")\n",
    "print(brain_data[region]['description'].shape)\n",
    "print(\"\\nExpression data shape:\")\n",
    "print(brain_data[region]['expression'].shape)\n",
    "print(\"\\n---\")"
   ]
  },
  {
   "cell_type": "code",
   "execution_count": 58,
   "metadata": {},
   "outputs": [],
   "source": [
    "%%script false --no-raise-error\n",
    "# %% Verify the data format\n",
    "region = list(brain_data.keys())[0]\n",
    "print(f\"\\nRegion: {region}\")\n",
    "print(\"\\nDescription data format:\")\n",
    "print(brain_data[region]['description'].head())\n",
    "print(\"\\nExpression data format:\")\n",
    "print(brain_data[region]['expression'].head())\n",
    "print(\"\\n---\")\n"
   ]
  },
  {
   "cell_type": "code",
   "execution_count": null,
   "metadata": {},
   "outputs": [],
   "source": [
    "brain_data[\"amygdala\"].keys()"
   ]
  },
  {
   "cell_type": "code",
   "execution_count": null,
   "metadata": {},
   "outputs": [],
   "source": [
    "brain_data[\"amygdala\"][\"metadata\"]"
   ]
  },
  {
   "cell_type": "code",
   "execution_count": null,
   "metadata": {},
   "outputs": [],
   "source": [
    "brain_data[\"nucleus_accumbens_basal_ganglia\"][\"description\"].head()"
   ]
  },
  {
   "cell_type": "code",
   "execution_count": null,
   "metadata": {},
   "outputs": [],
   "source": [
    "brain_data[\"nucleus_accumbens_basal_ganglia\"][\"expression\"].head()"
   ]
  },
  {
   "cell_type": "code",
   "execution_count": 63,
   "metadata": {},
   "outputs": [],
   "source": [
    "# Add a column to associate gene_id with its gene_name from the description for all brain regions\n",
    "for region in brain_data:\n",
    "    description_df = brain_data[region][\"description\"]\n",
    "    # Create mapping using index (id) to gene_name\n",
    "    id_to_name = dict(zip(description_df[\"gene_id\"], description_df[\"gene_name\"]))\n",
    "\n",
    "    # Create a new column 'gene_name' in expression_df for each region\n",
    "    expression_df = brain_data[region][\"expression\"]\n",
    "    \n",
    "    # Add gene_name as a new column using the DataFrame index (which is now id)\n",
    "    expression_df[\"gene_name\"] = expression_df.index.map(id_to_name)\n",
    "\n",
    "    # Move gene_name and Description columns to the beginning\n",
    "    # Get all columns except gene_name and Description\n",
    "    data_cols = [col for col in expression_df.columns if col not in [\"gene_name\", \"Description\"]]\n",
    "    # Reorder columns with gene_name and Description first\n",
    "    new_cols = [\"gene_name\", \"Description\"] + data_cols\n",
    "    expression_df = expression_df[new_cols]\n",
    "\n",
    "    # Update the expression data in brain_data\n",
    "    brain_data[region][\"expression\"] = expression_df"
   ]
  },
  {
   "cell_type": "code",
   "execution_count": null,
   "metadata": {},
   "outputs": [],
   "source": [
    "brain_data[\"amygdala\"][\"expression\"].head()"
   ]
  },
  {
   "cell_type": "markdown",
   "metadata": {},
   "source": [
    "# Look for SRRM3 - different brain regions GTEx data\n",
    "**! Only one isoform across the datasets**"
   ]
  },
  {
   "cell_type": "code",
   "execution_count": null,
   "metadata": {},
   "outputs": [],
   "source": [
    "# Look for records with gene SRRM3 in the 'gene_name' column\n",
    "srrm3_records = brain_data[\"amygdala\"][\"expression\"][brain_data[\"amygdala\"][\"expression\"][\"Description\"].str.contains(\"SRRM3\", case=False, na=False)]\n",
    "\n",
    "print(\"\\nRecords containing SRRM3 in gene_name:\")\n",
    "srrm3_records.head()"
   ]
  },
  {
   "cell_type": "code",
   "execution_count": null,
   "metadata": {},
   "outputs": [],
   "source": [
    "# Look for ENSG00000177679 in the gene_name column\n",
    "srrm3_ensembl = \"ENSG00000177679\"\n",
    "srrm3_info = brain_data[\"amygdala\"][\"expression\"][brain_data[\"amygdala\"][\"expression\"][\"gene_name\"].str.contains(srrm3_ensembl, case=False, na=False)]\n",
    "\n",
    "print(\"\\nInformation for SRRM3 (ENSG00000177679):\")\n",
    "srrm3_info.head()\n"
   ]
  },
  {
   "cell_type": "code",
   "execution_count": null,
   "metadata": {},
   "outputs": [],
   "source": [
    "# Look for records with gene SRRM3 in the 'gene_name' column for each brain region\n",
    "for region in brain_data:\n",
    "    srrm3_records = brain_data[region][\"expression\"][brain_data[region][\"expression\"][\"Description\"].str.contains(\"SRRM3\", case=False, na=False)]\n",
    "    \n",
    "    print(f\"\\nSRRM3 gene_name for {region}:\")\n",
    "    print(srrm3_records[\"gene_name\"])"
   ]
  },
  {
   "cell_type": "code",
   "execution_count": null,
   "metadata": {},
   "outputs": [],
   "source": []
  },
  {
   "cell_type": "code",
   "execution_count": null,
   "metadata": {},
   "outputs": [],
   "source": []
  }
 ],
 "metadata": {
  "kernelspec": {
   "display_name": "jupyter",
   "language": "python",
   "name": "jupyter"
  },
  "language_info": {
   "codemirror_mode": {
    "name": "ipython",
    "version": 3
   },
   "file_extension": ".py",
   "mimetype": "text/x-python",
   "name": "python",
   "nbconvert_exporter": "python",
   "pygments_lexer": "ipython3",
   "version": "3.11.10"
  }
 },
 "nbformat": 4,
 "nbformat_minor": 2
}
