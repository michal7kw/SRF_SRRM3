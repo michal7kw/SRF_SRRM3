{
 "cells": [
  {
   "cell_type": "markdown",
   "metadata": {
    "vscode": {
     "languageId": "r"
    }
   },
   "source": [
    "- ACC (adrenocortical carcinoma)\n",
    "- UVM (uveal melanoma)\n",
    "- SKCM (skin cutaneous melanoma)\n",
    "- LGG (brain lower grade glioma)\n",
    "- GBM (glioblatoma)\n"
   ]
  },
  {
   "cell_type": "markdown",
   "metadata": {},
   "source": [
    "# Setup"
   ]
  },
  {
   "cell_type": "code",
   "execution_count": 2,
   "metadata": {
    "vscode": {
     "languageId": "r"
    }
   },
   "outputs": [],
   "source": [
    "# Data manipulation and analysis\n",
    "suppressPackageStartupMessages({\n",
    "  library(dplyr)        # Data manipulation and transformation\n",
    "  library(tidyverse)    # Collection of data science packages\n",
    "  library(data.table)   # Fast data manipulation\n",
    "\n",
    "  # Survival analysis\n",
    "  library(survival)     # Core survival analysis functions\n",
    "  library(survminer)    # Survival analysis visualization\n",
    "\n",
    "  # Genomic data handling\n",
    "  library(recount3)     # Access to RNA-seq data\n",
    "  library(biomaRt)      # Access to genomic annotations\n",
    "  library(TCGAbiolinks) # TCGA data access\n",
    "  library(SummarizedExperiment) # Container for genomic data\n",
    "  library(DESeq2)      # RNA-seq analysis\n",
    "  library(GenomicFeatures) # Genomic feature handling\n",
    "  library(rtracklayer)  # Import/export genomic tracks\n",
    "\n",
    "  # Matrix operations\n",
    "  library(matrixStats)  # Matrix calculations\n",
    "  library(sparseMatrixStats) # Sparse matrix operations\n",
    "\n",
    "  # Parallel processing\n",
    "  library(parallel)     # Base R parallel processing\n",
    "  library(BiocParallel) # Bioconductor parallel processing\n",
    "\n",
    "  # Utilities\n",
    "  library(httr)         # HTTP requests\n",
    "  library(retry)        # Retry failed operations\n",
    "  library(futile.logger) # Logging functionality\n",
    "  library(viridis)      # Color palettes\n",
    "})"
   ]
  },
  {
   "cell_type": "code",
   "execution_count": 3,
   "metadata": {
    "vscode": {
     "languageId": "r"
    }
   },
   "outputs": [],
   "source": [
    "# Set working directory\n",
    "setwd(\"/beegfs/scratch/ric.broccoli/kubacki.michal/SRF_SRRM3/TCGA/Data_exploration\")\n"
   ]
  },
  {
   "cell_type": "code",
   "execution_count": 4,
   "metadata": {
    "vscode": {
     "languageId": "r"
    }
   },
   "outputs": [
    {
     "data": {
      "text/html": [
       "<style>\n",
       ".dl-inline {width: auto; margin:0; padding: 0}\n",
       ".dl-inline>dt, .dl-inline>dd {float: none; width: auto; display: inline-block}\n",
       ".dl-inline>dt::after {content: \":\\0020\"; padding-right: .5ex}\n",
       ".dl-inline>dt:not(:first-of-type) {padding-left: .5ex}\n",
       "</style><dl class=dl-inline><dt>R_MAX_NUM_DLLS</dt><dd>'150'</dd><dt>R_GC_MEM_GROW</dt><dd>'3'</dd><dt>R_ENABLE_JIT</dt><dd>'3'</dd><dt>OMP_NUM_THREADS</dt><dd>'4'</dd><dt>OPENBLAS_NUM_THREADS</dt><dd>'4'</dd><dt>MKL_NUM_THREADS</dt><dd>'4'</dd></dl>\n"
      ],
      "text/latex": [
       "\\begin{description*}\n",
       "\\item[R\\textbackslash{}\\_MAX\\textbackslash{}\\_NUM\\textbackslash{}\\_DLLS] '150'\n",
       "\\item[R\\textbackslash{}\\_GC\\textbackslash{}\\_MEM\\textbackslash{}\\_GROW] '3'\n",
       "\\item[R\\textbackslash{}\\_ENABLE\\textbackslash{}\\_JIT] '3'\n",
       "\\item[OMP\\textbackslash{}\\_NUM\\textbackslash{}\\_THREADS] '4'\n",
       "\\item[OPENBLAS\\textbackslash{}\\_NUM\\textbackslash{}\\_THREADS] '4'\n",
       "\\item[MKL\\textbackslash{}\\_NUM\\textbackslash{}\\_THREADS] '4'\n",
       "\\end{description*}\n"
      ],
      "text/markdown": [
       "R_MAX_NUM_DLLS\n",
       ":   '150'R_GC_MEM_GROW\n",
       ":   '3'R_ENABLE_JIT\n",
       ":   '3'OMP_NUM_THREADS\n",
       ":   '4'OPENBLAS_NUM_THREADS\n",
       ":   '4'MKL_NUM_THREADS\n",
       ":   '4'\n",
       "\n"
      ],
      "text/plain": [
       "      R_MAX_NUM_DLLS        R_GC_MEM_GROW         R_ENABLE_JIT \n",
       "               \"150\"                  \"3\"                  \"3\" \n",
       "     OMP_NUM_THREADS OPENBLAS_NUM_THREADS      MKL_NUM_THREADS \n",
       "                 \"4\"                  \"4\"                  \"4\" "
      ]
     },
     "metadata": {},
     "output_type": "display_data"
    }
   ],
   "source": [
    "# Set R environment variables for better performance\n",
    "Sys.setenv(R_MAX_NUM_DLLS = 150)\n",
    "Sys.setenv(R_GC_MEM_GROW = 3)\n",
    "Sys.setenv(R_ENABLE_JIT = 3)\n",
    "\n",
    "# For parallel processing, you can set these based on your available cores\n",
    "# For example, if you want to use 32 cores like in the shell script:\n",
    "num_cores <- 4\n",
    "Sys.setenv(OMP_NUM_THREADS = num_cores)\n",
    "Sys.setenv(OPENBLAS_NUM_THREADS = num_cores)\n",
    "Sys.setenv(MKL_NUM_THREADS = num_cores)\n",
    "\n",
    "# Verify the environment variables were set\n",
    "Sys.getenv(c(\"R_MAX_NUM_DLLS\", \"R_GC_MEM_GROW\", \"R_ENABLE_JIT\", \n",
    "             \"OMP_NUM_THREADS\", \"OPENBLAS_NUM_THREADS\", \"MKL_NUM_THREADS\"))\n",
    "\n",
    "BiocParallel::register(MulticoreParam(workers = num_cores))"
   ]
  },
  {
   "cell_type": "markdown",
   "metadata": {},
   "source": [
    "# Analysis"
   ]
  },
  {
   "cell_type": "code",
   "execution_count": 5,
   "metadata": {
    "vscode": {
     "languageId": "r"
    }
   },
   "outputs": [],
   "source": [
    "cancer_types <- c(\"ACC\", \"UVM\", \"SKCM\", \"LGG\", \"GBM\")\n",
    "expression_threshold = 0.75\n",
    "threshold = 0.75\n",
    "grouping_method = \"quartile\"\n",
    "gene_name = \"SRRM3\""
   ]
  },
  {
   "cell_type": "code",
   "execution_count": 6,
   "metadata": {
    "vscode": {
     "languageId": "r"
    }
   },
   "outputs": [
    {
     "name": "stderr",
     "output_type": "stream",
     "text": [
      "2025-02-17 06:43:27.390837 caching file sra.recount_project.MD.gz.\n",
      "\n",
      "2025-02-17 06:43:28.007464 caching file gtex.recount_project.MD.gz.\n",
      "\n",
      "2025-02-17 06:43:28.617104 caching file tcga.recount_project.MD.gz.\n",
      "\n"
     ]
    }
   ],
   "source": [
    "projects <- available_projects()"
   ]
  },
  {
   "cell_type": "code",
   "execution_count": 7,
   "metadata": {
    "vscode": {
     "languageId": "r"
    }
   },
   "outputs": [
    {
     "name": "stdout",
     "output_type": "stream",
     "text": [
      "[1] \"sra\"  \"gtex\" \"tcga\"\n",
      "[1] \"data_sources\"\n"
     ]
    }
   ],
   "source": [
    "print(unique(projects$file_source))\n",
    "print(unique(projects$project_type))"
   ]
  },
  {
   "cell_type": "code",
   "execution_count": 8,
   "metadata": {
    "vscode": {
     "languageId": "r"
    }
   },
   "outputs": [
    {
     "name": "stdout",
     "output_type": "stream",
     "text": [
      " [1] \"ACC\"  \"BLCA\" \"BRCA\" \"CESC\" \"CHOL\" \"COAD\" \"DLBC\" \"ESCA\" \"GBM\"  \"HNSC\"\n",
      "[11] \"KICH\" \"KIRC\" \"KIRP\" \"LAML\" \"LGG\"  \"LIHC\" \"LUAD\" \"LUSC\" \"MESO\" \"OV\"  \n",
      "[21] \"PAAD\" \"PCPG\" \"PRAD\" \"READ\" \"SARC\" \"SKCM\" \"STAD\" \"TGCT\" \"THCA\" \"THYM\"\n",
      "[31] \"UCEC\" \"UCS\"  \"UVM\" \n"
     ]
    }
   ],
   "source": [
    "print(unique(projects[projects$file_source == \"tcga\",]$project))"
   ]
  },
  {
   "cell_type": "code",
   "execution_count": 9,
   "metadata": {
    "vscode": {
     "languageId": "r"
    }
   },
   "outputs": [],
   "source": [
    "project_info <- subset(projects, \n",
    "                      project %in% cancer_types &\n",
    "                      file_source == \"tcga\" &\n",
    "                      project_type == \"data_sources\")"
   ]
  },
  {
   "cell_type": "code",
   "execution_count": 10,
   "metadata": {
    "vscode": {
     "languageId": "r"
    }
   },
   "outputs": [
    {
     "data": {
      "text/html": [
       "<table class=\"dataframe\">\n",
       "<caption>A data.frame: 5 × 6</caption>\n",
       "<thead>\n",
       "\t<tr><th></th><th scope=col>project</th><th scope=col>organism</th><th scope=col>file_source</th><th scope=col>project_home</th><th scope=col>project_type</th><th scope=col>n_samples</th></tr>\n",
       "\t<tr><th></th><th scope=col>&lt;chr&gt;</th><th scope=col>&lt;chr&gt;</th><th scope=col>&lt;chr&gt;</th><th scope=col>&lt;chr&gt;</th><th scope=col>&lt;chr&gt;</th><th scope=col>&lt;table[1d]&gt;</th></tr>\n",
       "</thead>\n",
       "<tbody>\n",
       "\t<tr><th scope=row>8710</th><td>ACC </td><td>human</td><td>tcga</td><td>data_sources/tcga</td><td>data_sources</td><td> 79</td></tr>\n",
       "\t<tr><th scope=row>8718</th><td>GBM </td><td>human</td><td>tcga</td><td>data_sources/tcga</td><td>data_sources</td><td>175</td></tr>\n",
       "\t<tr><th scope=row>8724</th><td>LGG </td><td>human</td><td>tcga</td><td>data_sources/tcga</td><td>data_sources</td><td>532</td></tr>\n",
       "\t<tr><th scope=row>8735</th><td>SKCM</td><td>human</td><td>tcga</td><td>data_sources/tcga</td><td>data_sources</td><td>473</td></tr>\n",
       "\t<tr><th scope=row>8742</th><td>UVM </td><td>human</td><td>tcga</td><td>data_sources/tcga</td><td>data_sources</td><td> 80</td></tr>\n",
       "</tbody>\n",
       "</table>\n"
      ],
      "text/latex": [
       "A data.frame: 5 × 6\n",
       "\\begin{tabular}{r|llllll}\n",
       "  & project & organism & file\\_source & project\\_home & project\\_type & n\\_samples\\\\\n",
       "  & <chr> & <chr> & <chr> & <chr> & <chr> & <table{[}1d{]}>\\\\\n",
       "\\hline\n",
       "\t8710 & ACC  & human & tcga & data\\_sources/tcga & data\\_sources &  79\\\\\n",
       "\t8718 & GBM  & human & tcga & data\\_sources/tcga & data\\_sources & 175\\\\\n",
       "\t8724 & LGG  & human & tcga & data\\_sources/tcga & data\\_sources & 532\\\\\n",
       "\t8735 & SKCM & human & tcga & data\\_sources/tcga & data\\_sources & 473\\\\\n",
       "\t8742 & UVM  & human & tcga & data\\_sources/tcga & data\\_sources &  80\\\\\n",
       "\\end{tabular}\n"
      ],
      "text/markdown": [
       "\n",
       "A data.frame: 5 × 6\n",
       "\n",
       "| <!--/--> | project &lt;chr&gt; | organism &lt;chr&gt; | file_source &lt;chr&gt; | project_home &lt;chr&gt; | project_type &lt;chr&gt; | n_samples &lt;table[1d]&gt; |\n",
       "|---|---|---|---|---|---|---|\n",
       "| 8710 | ACC  | human | tcga | data_sources/tcga | data_sources |  79 |\n",
       "| 8718 | GBM  | human | tcga | data_sources/tcga | data_sources | 175 |\n",
       "| 8724 | LGG  | human | tcga | data_sources/tcga | data_sources | 532 |\n",
       "| 8735 | SKCM | human | tcga | data_sources/tcga | data_sources | 473 |\n",
       "| 8742 | UVM  | human | tcga | data_sources/tcga | data_sources |  80 |\n",
       "\n"
      ],
      "text/plain": [
       "     project organism file_source project_home      project_type n_samples\n",
       "8710 ACC     human    tcga        data_sources/tcga data_sources  79      \n",
       "8718 GBM     human    tcga        data_sources/tcga data_sources 175      \n",
       "8724 LGG     human    tcga        data_sources/tcga data_sources 532      \n",
       "8735 SKCM    human    tcga        data_sources/tcga data_sources 473      \n",
       "8742 UVM     human    tcga        data_sources/tcga data_sources  80      "
      ]
     },
     "metadata": {},
     "output_type": "display_data"
    }
   ],
   "source": [
    "project_info"
   ]
  },
  {
   "cell_type": "code",
   "execution_count": 11,
   "metadata": {
    "vscode": {
     "languageId": "r"
    }
   },
   "outputs": [
    {
     "name": "stdout",
     "output_type": "stream",
     "text": [
      "$ACC\n",
      "[1] \"../TCGA_clinical/clinical.project-tcga-acc.2025-02-12\"\n",
      "\n",
      "$UVM\n",
      "[1] \"../TCGA_clinical/clinical.project-tcga-uvm.2025-02-12\"\n",
      "\n",
      "$SKCM\n",
      "[1] \"../TCGA_clinical/clinical.project-tcga-skcm.2025-02-12\"\n",
      "\n",
      "$LGG\n",
      "[1] \"../TCGA_clinical/clinical.project-tcga-lgg.2025-02-12\"\n",
      "\n",
      "$GBM\n",
      "[1] \"../TCGA_clinical/clinical.project-tcga-gbm.2025-02-12\"\n",
      "\n"
     ]
    }
   ],
   "source": [
    "clinical_dirs <- lapply(cancer_types, function(ct) {\n",
    "  file.path(\"../TCGA_clinical\", \n",
    "            sprintf(\"clinical.project-tcga-%s.2025-02-12\", \n",
    "                    tolower(ct)))\n",
    "})\n",
    "names(clinical_dirs) <- cancer_types\n",
    "print(clinical_dirs)"
   ]
  },
  {
   "cell_type": "code",
   "execution_count": 12,
   "metadata": {
    "vscode": {
     "languageId": "r"
    }
   },
   "outputs": [],
   "source": [
    "# Read clinical.tsv and follow_up.tsv files for each cancer type\n",
    "clinical_data <- lapply(clinical_dirs, function(dir) {\n",
    "  read.delim(file.path(dir, \"clinical.tsv\"), \n",
    "             sep=\"\\t\", stringsAsFactors=FALSE, na.strings=\"'--\")\n",
    "})\n",
    "\n",
    "follow_up_data <- lapply(clinical_dirs, function(dir) {\n",
    "  read.delim(file.path(dir, \"follow_up.tsv\"), \n",
    "             sep=\"\\t\", stringsAsFactors=FALSE, na.strings=\"'--\")\n",
    "})\n",
    "\n",
    "exposure_data <- lapply(clinical_dirs, function(dir) {\n",
    "  read.delim(file.path(dir, \"exposure.tsv\"), \n",
    "             sep=\"\\t\", stringsAsFactors=FALSE, na.strings=\"'--\")\n",
    "})\n",
    "\n",
    "family_history_data <- lapply(clinical_dirs, function(dir) {\n",
    "  read.delim(file.path(dir, \"family_history.tsv\"), \n",
    "             sep=\"\\t\", stringsAsFactors=FALSE, na.strings=\"'--\")\n",
    "})\n",
    "\n",
    "pathology_details_data <- lapply(clinical_dirs, function(dir) {\n",
    "  read.delim(file.path(dir, \"pathology_detail.tsv\"), \n",
    "             sep=\"\\t\", stringsAsFactors=FALSE, na.strings=\"'--\")\n",
    "})\n"
   ]
  },
  {
   "cell_type": "code",
   "execution_count": 13,
   "metadata": {
    "vscode": {
     "languageId": "r"
    }
   },
   "outputs": [
    {
     "data": {
      "text/plain": [
       "     Length Class      Mode\n",
       "ACC  197    data.frame list\n",
       "UVM  197    data.frame list\n",
       "SKCM 197    data.frame list\n",
       "LGG  197    data.frame list\n",
       "GBM  197    data.frame list"
      ]
     },
     "metadata": {},
     "output_type": "display_data"
    }
   ],
   "source": [
    "summary(clinical_data)\n"
   ]
  },
  {
   "cell_type": "markdown",
   "metadata": {},
   "source": [
    "# Clinical data"
   ]
  },
  {
   "cell_type": "markdown",
   "metadata": {},
   "source": [
    "## ACC"
   ]
  },
  {
   "cell_type": "code",
   "execution_count": 14,
   "metadata": {
    "vscode": {
     "languageId": "r"
    }
   },
   "outputs": [
    {
     "name": "stdout",
     "output_type": "stream",
     "text": [
      "case_id : 0304b12d-7640-4150-a581-2eea2b1f2ad5 075dbfd0-9cf4-4877-884f-ae858902c79e 0824b246-9fa2-4a8b-ad4c-1ffc7731bf7d 08e0d412-d4d8-4d13-b792-a4dd0bd9ec2b 09454ed6-64bc-4a35-af44-7c4344623d45 0acc28bc-d348-41df-8f49-bc0332eb9be4 0b73cbba-5520-4610-b649-912d76114033 11d8a9c2-14d8-4fc2-8388-386051e408b1 15fb07ae-101c-4553-891d-539cee89a5e9 199560cb-15e5-4276-865a-7d44d47c856c ...\n",
      "case_submitter_id : TCGA-OR-A5LL TCGA-OR-A5J7 TCGA-P6-A5OG TCGA-OR-A5J8 TCGA-OR-A5KB TCGA-OR-A5JL TCGA-OR-A5JP TCGA-OR-A5KS TCGA-OR-A5LT TCGA-OR-A5JQ ...\n",
      "project_id : TCGA-ACC \n",
      "age_at_index : 75 30 45 66 61 36 40 72 57 26 ...\n",
      "age_is_obfuscated : false \n",
      "country_of_residence_at_enrollment : France Brazil United States Australia Germany Canada \n",
      "days_to_birth : -27607 -11279 -16659 -24266 -22550 -13155 -14667 -26404 -21032 -9667 ...\n",
      "days_to_death : 1613 490 383 579 NA 2405 552 922 423 391 ...\n",
      "ethnicity : not reported hispanic or latino not hispanic or latino Unknown \n",
      "gender : female male \n",
      "race : not reported white Unknown asian black or african american \n",
      "vital_status : Dead Alive \n",
      "age_at_diagnosis : 27607 27820 11441 11279 9778 16659 16670 24796 24266 22550 ...\n",
      "ajcc_pathologic_m : NA M0 \n",
      "ajcc_pathologic_n : NA NX N0 \n",
      "ajcc_pathologic_stage : NA Stage II \n",
      "ajcc_pathologic_t : NA T2a \n",
      "ajcc_staging_system_edition : NA 5th \n",
      "classification_of_tumor : primary metastasis recurrence Prior primary Synchronous primary Subsequent Primary \n",
      "days_to_diagnosis : 0 213 162 -6881 11 530 214 153 1116 391 ...\n",
      "diagnosis_is_primary_disease : true false \n",
      "ensat_clinical_m : M0 NA M1 \n",
      "ensat_pathologic_n : N0 NA N1 \n",
      "ensat_pathologic_stage : Stage II NA Stage III Stage IV Stage I \n",
      "ensat_pathologic_t : T2 NA T3 T4 T1 \n",
      "figo_stage : NA Stage IIA \n",
      "figo_staging_edition_year : NA 2009 \n",
      "icd_10_code : C74.0 NA \n",
      "laterality : Right NA Left \n",
      "morphology : 8370/3 9180/3 8370/1 Not Reported 8260/3 8310/3 8252/3 \n",
      "primary_diagnosis : Adrenal cortical carcinoma Osteosarcoma, NOS Not Reported Papillary adenocarcinoma, NOS Clear cell carcinoma Bronchiolo-alveolar carcinoma, non-mucinous \n",
      "prior_malignancy : no NA yes \n",
      "prior_treatment : No Yes NA \n",
      "residual_disease : R0 NA R1 R2 RX \n",
      "site_of_resection_or_biopsy : Adrenal gland, NOS Not Reported \n",
      "synchronous_malignancy : No NA Yes \n",
      "tissue_or_organ_of_origin : Cortex of adrenal gland Liver Lung, NOS Intra-abdominal lymph nodes Mandible Brain, NOS Peritoneum, NOS Connective, subcutaneous and other soft tissues, NOS Lymph node, NOS Ovary ...\n",
      "tumor_of_origin : NA TCGA-OR-A5LL_diagnosis TCGA-OR-A5J7_diagnosis TCGA-P6-A5OG_diagnosis TCGA-OR-A5J8_diagnosis TCGA-OR-A5KB_diagnosis TCGA-OR-A5LO_diagnosis TCGA-OR-A5KV_diagnosis TCGA-OR-A5K6_diagnosis TCGA-OR-A5KX_diagnosis ...\n",
      "weiss_assessment_score : 7 NA 6 4 8 5 3 2 9 \n",
      "year_of_diagnosis : 2007 NA 2009 2011 2012 2006 2008 2003 2005 2010 ...\n",
      "clinical_trial_indicator : NA No Yes \n",
      "days_to_treatment_end : NA 138 93 91 88 74 298 299 102 83 ...\n",
      "days_to_treatment_start : NA 335 -6881 107 1309 1120 1003 42 22 69 ...\n",
      "initial_disease_status : NA Residual Disease Progressive Disease Recurrent Disease Not Reported Initial Diagnosis \n",
      "number_of_fractions : NA 25 10 1 15 28 4 \n",
      "residual_disease.1 : R0 NA R1 R2 RX \n",
      "therapeutic_agents : Mitotane NA Cisplatin Methotrexate Doxorubicin Hydrochloride Carboplatin Capecitabine Etoposide Sorafenib Doxorubicin ...\n",
      "therapeutic_levels_achieved : Yes NA No Unknown \n",
      "therapeutic_target_level : >14 mg/L NA \n",
      "timepoint_category : Recurrence NA Progression \n",
      "treatment_dose : NA 4500 30 45 55 53 43 8 40 10 ...\n",
      "treatment_dose_units : NA cGy Gy \n",
      "treatment_intent_type : NA Adjuvant Not Reported \n",
      "treatment_or_therapy : yes no unknown NA \n",
      "treatment_outcome : NA Complete Response Progressive Disease Unknown Not Reported Partial Response Stable Disease \n",
      "treatment_type : Chemotherapy Radiation Therapy, NOS Pharmaceutical Therapy, NOS Surgery, NOS Radiation, External Beam NA Targeted Molecular Therapy Immunotherapy (Including Vaccines) Radiation, Internal \n"
     ]
    }
   ],
   "source": [
    "# Get columns that are not all NA\n",
    "non_na_cols <- names(clinical_data$ACC)[colSums(!is.na(clinical_data$ACC)) > 0]\n",
    "\n",
    "# Print unique values for each non-NA column, limited to 10 elements\n",
    "for (col in non_na_cols) {\n",
    "  unique_vals <- unique(clinical_data$ACC[[col]])\n",
    "  if (length(unique_vals) > 10) {\n",
    "    unique_vals <- unique_vals[1:10]\n",
    "    cat(col, \":\", unique_vals, \"...\\n\")\n",
    "  } else {\n",
    "    cat(col, \":\", unique_vals, \"\\n\")\n",
    "  }\n",
    "}"
   ]
  },
  {
   "cell_type": "markdown",
   "metadata": {},
   "source": [
    "## UVM"
   ]
  },
  {
   "cell_type": "code",
   "execution_count": 16,
   "metadata": {
    "vscode": {
     "languageId": "r"
    }
   },
   "outputs": [
    {
     "name": "stdout",
     "output_type": "stream",
     "text": [
      "case_id : 014d4b17-d683-438b-9287-33fcec82bf5a 01b18f83-da8a-4d3f-b722-f00fe7559c60 029cc59c-60df-4411-a044-3a2eeee7b110 15d19ccc-52b8-41f6-b1c1-2cc55691aed5 1a2ce30c-5891-4bf6-8c97-6d1f34d4fe48 1d00217f-28df-4d91-aeb9-0d9a83a907e6 1dbd7b0e-9234-47d9-bdca-5b17f5af619b 2112a42a-9b85-475a-a31b-4ce7751cdeb9 22e7816d-4be9-4f84-b487-baa6ca35452d 2bf47a88-df0a-4102-af2e-998c3d252b9c ...\n",
      "case_submitter_id : TCGA-VD-A8KO TCGA-WC-AA9A TCGA-V4-A9E5 TCGA-V4-A9EY TCGA-VD-A8KM TCGA-VD-AA8Q TCGA-VD-AA8N TCGA-V3-A9ZY TCGA-VD-A8KI TCGA-RZ-AB0B ...\n",
      "project_id : TCGA-UVM \n",
      "age_at_index : 51 70 66 65 71 86 54 68 47 76 ...\n",
      "age_is_obfuscated : false \n",
      "cause_of_death : NA Cancer Related Unknown Not Cancer Related Not Reported \n",
      "country_of_residence_at_enrollment : United Kingdom United States France \n",
      "days_to_birth : -18844 -25641 -18948 -24187 -24047 -26285 -31475 -19894 -24966 -17514 ...\n",
      "days_to_death : NA 453 636 1113 149 575 2360 1314 1581 82 ...\n",
      "ethnicity : not reported not hispanic or latino Unknown hispanic or latino \n",
      "gender : male female \n",
      "race : not reported white \n",
      "vital_status : Alive Dead Unknown \n",
      "year_of_birth : NA 1956 1946 1967 1934 1933 1961 1975 1971 1954 ...\n",
      "year_of_death : NA 2019 2018 2015 2016 2014 2017 2011 2013 2020 \n",
      "age_at_diagnosis : 18844 25641 26012 NA 18948 24187 24047 26285 31475 19894 ...\n",
      "ajcc_clinical_m : M0 NA MX M1b M1 \n",
      "ajcc_clinical_n : N0 NA NX \n",
      "ajcc_clinical_stage : Stage IIIA Stage IIA NA Stage IIIB Stage IIB Stage IV Stage IIIC \n",
      "ajcc_clinical_t : T4a NA T4b T3a T3 T3b T4d T2b T4 T4c ...\n",
      "ajcc_pathologic_m : MX NA M0 M1 M1b \n",
      "ajcc_pathologic_n : NX NA N0 \n",
      "ajcc_pathologic_stage : Stage IIA NA Stage IIIB Stage IIIA Stage IIB Stage IV Stage IIIC \n",
      "ajcc_pathologic_t : T2a NA T4b T4a T3a T3b T3 T4d T2b T4c ...\n",
      "ajcc_staging_system_edition : 7th NA \n",
      "classification_of_tumor : primary metastasis Prior primary recurrence Subsequent Primary Synchronous primary \n",
      "days_to_diagnosis : 0 371 NA 1032 2020 -18 233 625 606 197 ...\n",
      "diagnosis_is_primary_disease : true false \n",
      "icd_10_code : C69.30 NA C69.80 C69.40 C69.90 \n",
      "laterality : Right NA Left Not Reported \n",
      "metastasis_at_diagnosis : No Metastasis NA Not Reported Distant Metastasis \n",
      "method_of_diagnosis : Enucleation NA Exoresection \n",
      "morphology : 8774/3 8772/3 Not Reported 8720/3 8770/3 8771/3 8700/3 8070/3 8140/3 8090/3 ...\n",
      "primary_diagnosis : Spindle cell melanoma, type B Spindle cell melanoma, NOS Not Reported Malignant melanoma, NOS Mixed epithelioid and spindle cell melanoma Epithelioid cell melanoma Pheochromocytoma, malignant Squamous cell carcinoma, NOS Adenocarcinoma, NOS Basal cell carcinoma, NOS ...\n",
      "prior_malignancy : no yes NA \n",
      "prior_treatment : No Yes NA \n",
      "residual_disease : NA R0 R2 R1 \n",
      "site_of_resection_or_biopsy : Choroid Not Reported Overlapping lesion of eye and adnexa Ciliary body Eye, NOS \n",
      "synchronous_malignancy : No NA \n",
      "tissue_or_organ_of_origin : Choroid Skin, NOS Breast, NOS Not Reported Overlapping lesion of eye and adnexa Ciliary body Pancreas, NOS Liver Prostate gland Skin of other and unspecified parts of face ...\n",
      "tumor_of_origin : NA TCGA-WC-AA9A_diagnosis TCGA-VD-AA8Q_diagnosis TCGA-VD-A8KI_diagnosis TCGA-VD-A8KB_diagnosis TCGA-V3-A9ZX_diagnosis TCGA-V4-A9EW_diagnosis TCGA-VD-A8KD_diagnosis TCGA-YZ-A984_diagnosis TCGA-VD-A8KF_diagnosis ...\n",
      "year_of_diagnosis : 2012 2011 NA 2008 2013 2007 2010 \n",
      "clinical_trial_indicator : NA Yes \n",
      "days_to_treatment_end : NA 64 209 296 2262 2094 174 148 127 458 ...\n",
      "days_to_treatment_start : NA 371 -4019 -5 -3 -6 -16 22 2020 0 ...\n",
      "initial_disease_status : NA Progressive Disease Initial Diagnosis Recurrent Disease \n",
      "number_of_cycles : NA 6 8 3 5 1 4 26 10 2 ...\n",
      "number_of_fractions : NA 30 27 \n",
      "reason_treatment_ended : NA Course of Therapy Completed Other Adverse Event \n",
      "residual_disease.1 : NA R0 R2 R1 \n",
      "therapeutic_agents : NA Fotemustine Gemcitabine Cisplatin Pembrolizumab Dacarbazine Nivolumab Clinical Trial Agent Selumetinib Temozolomide ...\n",
      "treatment_dose : NA 60 163 202 1600 200 54 147 150 1179 ...\n",
      "treatment_dose_units : NA Gy mg mg/m2 \n",
      "treatment_intent_type : Adjuvant NA Salvage Not Reported Induction \n",
      "treatment_or_therapy : no yes unknown NA \n",
      "treatment_outcome : NA Stable Disease Complete Response No Response Unknown Treatment Stopped Due to Toxicity \n",
      "treatment_type : Radiation Therapy, NOS Pharmaceutical Therapy, NOS Surgery, NOS Radiation, External Beam Chemotherapy NA \n"
     ]
    }
   ],
   "source": [
    "# Get columns that are not all NA\n",
    "non_na_cols <- names(clinical_data$UVM)[colSums(!is.na(clinical_data$UVM)) > 0]\n",
    "\n",
    "# Print unique values for each non-NA column, limited to 10 elements\n",
    "for (col in non_na_cols) {\n",
    "  unique_vals <- unique(clinical_data$UVM[[col]])\n",
    "  if (length(unique_vals) > 10) {\n",
    "    unique_vals <- unique_vals[1:10]\n",
    "    cat(col, \":\", unique_vals, \"...\\n\")\n",
    "  } else {\n",
    "    cat(col, \":\", unique_vals, \"\\n\")\n",
    "  }\n",
    "}"
   ]
  },
  {
   "cell_type": "markdown",
   "metadata": {},
   "source": [
    "## SKCM"
   ]
  },
  {
   "cell_type": "code",
   "execution_count": 15,
   "metadata": {
    "vscode": {
     "languageId": "r"
    }
   },
   "outputs": [
    {
     "name": "stdout",
     "output_type": "stream",
     "text": [
      "case_id : 0153f141-625e-4623-9f8a-296678002c63 015ba831-106b-4b84-9e8c-243a9eeeebf6 01ad975d-c2ed-4e4d-bd3b-c9512fc9073c 01cb0004-fc1e-4da5-9d27-f458f8d711ee 01cfbfae-f344-439d-aeab-a9e15d636325 021a9431-7fdc-42b8-9ff0-e17ded79ff1d 021d32b0-a94a-4dad-95f4-8eb0abd894bf 04add7f0-d212-486e-ae70-d41d8112f523 04c3d01d-a949-4dc7-9829-a8c99180dba0 04f7ecc8-4f6b-41ac-a984-9ea604698a21 ...\n",
      "case_submitter_id : TCGA-D3-A3ML TCGA-EE-A3AF TCGA-DA-A1I2 TCGA-EE-A29V TCGA-EE-A2ML TCGA-ER-A42L TCGA-HR-A2OG TCGA-XV-AB01 TCGA-FW-A3TV TCGA-D3-A2JO ...\n",
      "project_id : TCGA-SKCM \n",
      "age_at_index : 70 48 45 85 35 49 59 54 57 50 ...\n",
      "age_is_obfuscated : false true \n",
      "country_of_residence_at_enrollment : United States Australia Canada Russia Vietnam Ukraine Poland Germany United Kingdom Puerto Rico ...\n",
      "days_to_birth : -25643 -17731 -16701 -31092 -13140 -17984 -21767 -20058 -20972 -18577 ...\n",
      "days_to_death : 422 420 5370 787 6590 NA 472 423 1446 317 ...\n",
      "ethnicity : not hispanic or latino not reported hispanic or latino Unknown \n",
      "gender : male female \n",
      "race : white not reported asian Unknown black or african american \n",
      "vital_status : Dead Alive \n",
      "age_at_diagnosis : 25798 NA 25675 25873 25643 26029 25676 17731 18064 17932 ...\n",
      "ajcc_pathologic_m : NA M0 M1c M1 M1b M1a \n",
      "ajcc_pathologic_n : NA N2a N3 N2b N1b N0 NX N1 N1a N2c ...\n",
      "ajcc_pathologic_stage : NA Stage IIIA Stage IIIC Stage III Stage II Stage IIIB Stage I Stage IV Stage IIB Stage IA ...\n",
      "ajcc_pathologic_t : NA T3a T0 T4b T3b T3 T1 TX T2 T2b ...\n",
      "ajcc_staging_system_edition : NA 7th 6th 4th 5th 1st 3rd 2nd \n",
      "clark_level : NA IV III Not Reported V II I \n",
      "classification_of_tumor : metastasis Prior primary primary Progression not reported Subsequent Primary recurrence Synchronous primary \n",
      "days_to_diagnosis : 155 NA 32 230 0 386 33 333 201 313 ...\n",
      "diagnosis_is_primary_disease : false true \n",
      "icd_10_code : NA C77.0 C77.9 C44.5 C77.3 C74.9 C44.6 C49.3 C44.7 C77.4 ...\n",
      "laterality : NA Left Right Unknown \n",
      "melanoma_known_primary : NA Yes No \n",
      "morphology : 8720/3 Not Reported 8090/3 8810/3 9700/3 9050/3 8070/3 8742/3 8743/3 8770/3 ...\n",
      "primary_diagnosis : Malignant melanoma, NOS Not Reported Basal cell carcinoma, NOS Fibrosarcoma, NOS Mycosis fungoides Melanoma, NOS Mesothelioma, NOS Squamous cell carcinoma, NOS Lentigo maligna melanoma Superficial spreading melanoma ...\n",
      "prior_malignancy : NA yes no not reported \n",
      "prior_treatment : Yes NA Unknown No \n",
      "site_of_resection_or_biopsy : Not Reported Lymph nodes of head, face and neck Lymph node, NOS Skin of trunk Lymph nodes of axilla or arm Adrenal gland, NOS Skin of upper limb and shoulder Connective, subcutaneous and other soft tissues of thorax Skin of lower limb and hip Lymph nodes of inguinal region or leg ...\n",
      "synchronous_malignancy : NA No Yes Not Reported \n",
      "tissue_or_organ_of_origin : Not Reported Prostate gland Skin, NOS Unknown Peritoneum, NOS Spleen Pelvis, NOS Liver Brain, NOS Thorax, NOS ...\n",
      "tumor_of_origin : TCGA-D3-A3ML_diagnosis NA TCGA-EE-A3AF_diagnosis TCGA-DA-A1I2_diagnosis TCGA-EE-A29V_diagnosis TCGA-EE-A2ML_diagnosis TCGA-ER-A42L_diagnosis TCGA-FW-A3TV_diagnosis TCGA-D3-A2JO_diagnosis TCGA-EE-A2GP_diagnosis ...\n",
      "ulceration_indicator : NA No Yes Unknown Not Reported \n",
      "year_of_diagnosis : NA 2003 2009 1996 2008 1994 2001 2013 2012 2000 ...\n",
      "clinical_trial_indicator : NA No Yes \n",
      "course_number : NA 1 \n",
      "days_to_treatment_end : NA 278 250 404 355 787 330 149 6156 6339 ...\n",
      "days_to_treatment_start : 187 NA 54 264 201 384 341 4679 96 715 ...\n",
      "initial_disease_status : Progressive Disease NA Initial Diagnosis Recurrent Disease Not Reported \n",
      "number_of_cycles : NA 2 1 4 \n",
      "number_of_fractions : NA 5 10 20 1 25 30 8 14 6 ...\n",
      "prescribed_dose : NA 1 400 480 \n",
      "prescribed_dose_units : NA mg/kg g/day mg mg/day \n",
      "therapeutic_agents : NA Fotemustine Dacarbazine Ontuxizumab Interferon Vinblastine Ondansetron Hydrochloride Recombinant Erythropoietin Cisplatin Cyclosporine ...\n",
      "timepoint_category : NA Prior to Procurement \n",
      "treatment_dose : NA 30 48 3000 8 20 50 3200 35 3600 ...\n",
      "treatment_dose_units : NA Gy cGy \n",
      "treatment_intent_type : NA Adjuvant First-Line Therapy \n",
      "treatment_or_therapy : yes no NA unknown \n",
      "treatment_outcome : NA Progressive Disease Unknown Treatment Ongoing Complete Response Partial Response Stable Disease Not Reported \n",
      "treatment_type : Surgery, NOS Pharmaceutical Therapy, NOS Radiation Therapy, NOS NA Chemotherapy Radiation, External Beam Immunotherapy (Including Vaccines) Ancillary Treatment Targeted Molecular Therapy Hormone Therapy ...\n"
     ]
    }
   ],
   "source": [
    "# Get columns that are not all NA\n",
    "non_na_cols <- names(clinical_data$SKCM)[colSums(!is.na(clinical_data$SKCM)) > 0]\n",
    "\n",
    "# Print unique values for each non-NA column, limited to 10 elements\n",
    "for (col in non_na_cols) {\n",
    "  unique_vals <- unique(clinical_data$SKCM[[col]])\n",
    "  if (length(unique_vals) > 10) {\n",
    "    unique_vals <- unique_vals[1:10]\n",
    "    cat(col, \":\", unique_vals, \"...\\n\")\n",
    "  } else {\n",
    "    cat(col, \":\", unique_vals, \"\\n\")\n",
    "  }\n",
    "}"
   ]
  },
  {
   "cell_type": "markdown",
   "metadata": {},
   "source": [
    "## LGG"
   ]
  },
  {
   "cell_type": "code",
   "execution_count": 17,
   "metadata": {
    "vscode": {
     "languageId": "r"
    }
   },
   "outputs": [
    {
     "name": "stdout",
     "output_type": "stream",
     "text": [
      "case_id : 001ad307-4ad3-4f1d-b2fc-efc032871c7e 0061e9ef-df6a-414e-af64-c88f8192e2d3 0073a136-d5f4-4fd6-88f9-711768f2abc6 00b18ad6-ff70-41fe-8f4d-0763ac8f28b9 010aac75-3bfe-4bf2-b866-af0f2d92f125 0167cf11-74be-4701-ab9a-4e057d4bb545 019c5de9-74fd-48b7-95a3-227532e16c5a 01a13aba-74a4-4895-a5ad-e5119925c202 01c4ca12-ac08-41dd-9e4f-bfb0971688a2 02194c0c-e2c1-4ea7-994a-07b61b2575e2 ...\n",
      "case_submitter_id : TCGA-HT-A614 TCGA-E1-5311 TCGA-VM-A8CF TCGA-HT-7677 TCGA-DB-5278 TCGA-DU-A5TY TCGA-HT-7604 TCGA-S9-A7IZ TCGA-DU-7009 TCGA-HT-7902 ...\n",
      "project_id : TCGA-LGG \n",
      "age_at_index : 47 31 44 53 17 46 50 48 32 30 ...\n",
      "age_is_obfuscated : false \n",
      "cause_of_death : NA Not Reported \n",
      "country_of_residence_at_enrollment : United States Germany Australia Russia NA Brazil Italy Vietnam \n",
      "days_to_birth : -17392 -11332 -16334 -19610 -6480 -16945 -18443 -17874 -11854 -11118 ...\n",
      "days_to_death : NA 4084 1033 4695 4229 775 1183 954 3470 242 ...\n",
      "ethnicity : not hispanic or latino Unknown hispanic or latino not reported \n",
      "gender : male female not reported \n",
      "race : white black or african american asian not reported Unknown american indian or alaska native \n",
      "vital_status : Alive Dead Not Reported \n",
      "age_at_diagnosis : 17392 13934 11332 16334 19610 6987 6480 16945 17471 18443 ...\n",
      "ajcc_pathologic_m : NA MX \n",
      "ajcc_pathologic_n : NA NX \n",
      "classification_of_tumor : primary recurrence metastasis not reported Prior primary Synchronous primary \n",
      "days_to_diagnosis : 0 2602 507 526 467 2960 924 3028 3009 430 ...\n",
      "diagnosis_is_primary_disease : true false \n",
      "first_symptom_longest_duration : >=181 Days NA 0-30 Days 31-90 Days 91-180 Days \n",
      "first_symptom_prior_to_diagnosis : Headaches NA Motor or Movement Changes Seizures Sensory Changes Visual Changes Altered Mental Status \n",
      "icd_10_code : C71.0 NA C71.9 C71.2 C71.1 C71.4 C71.3 \n",
      "laterality : Right NA Left Midline Bilateral \n",
      "morphology : 9382/3 9451/3 9401/3 9450/3 9400/3 Not Reported 9064/3 8500/3 8090/3 8720/3 ...\n",
      "primary_diagnosis : Mixed glioma Oligodendroglioma, anaplastic Astrocytoma, anaplastic Oligodendroglioma, NOS Astrocytoma, NOS Not Reported Germinoma Infiltrating duct carcinoma, NOS Basal cell carcinoma, NOS Melanoma, NOS ...\n",
      "prior_malignancy : no NA yes not reported \n",
      "prior_treatment : No Yes NA Not Reported \n",
      "site_of_resection_or_biopsy : Nervous system, NOS Not Reported \n",
      "supratentorial_localization : Not Reported NA White Matter Cerebral Cortex Deep Gray (e.g. Basal Ganglia, Thalamus) \n",
      "synchronous_malignancy : No NA Not Reported Yes \n",
      "tissue_or_organ_of_origin : Cerebrum Not Reported Brain, NOS Testis, NOS Temporal lobe Nervous system, NOS Frontal lobe Breast, NOS Head, face or neck, NOS Skin of trunk ...\n",
      "tumor_grade : G2 NA G3 \n",
      "tumor_of_origin : NA TCGA-E1-5311_diagnosis TCGA-DB-5278_diagnosis TCGA-DU-A5TY_diagnosis TCGA-S9-A7IZ_diagnosis TCGA-DU-7009_diagnosis TCGA-TM-A7CF_diagnosis TCGA-DU-A7T8_diagnosis TCGA-DB-A64O_diagnosis TCGA-WY-A85D_diagnosis ...\n",
      "year_of_diagnosis : 2013 NA 1994 2009 2007 2012 2003 2000 2011 2010 ...\n",
      "clinical_trial_indicator : NA No Yes \n",
      "course_number : NA 4 1 2 3 5 7 9 \n",
      "days_to_treatment_end : NA 20 3749 2799 3282 3996 4084 2919 3868 2848 ...\n",
      "days_to_treatment_start : NA 2602 20 3282 2615 2925 3868 3996 2871 2825 ...\n",
      "initial_disease_status : NA Progressive Disease Recurrent Disease Not Reported \n",
      "number_of_cycles : NA 1 15 6 8 3 19 2 4 7 ...\n",
      "number_of_fractions : NA 30 5 28 8 33 27 20 1 6 ...\n",
      "prescribed_dose : NA 40 100 200 110 300 50 400 2.2 140 ...\n",
      "prescribed_dose_units : NA mCi mg mg/m2 mg/day mg/m2/day Wafer mg/kg AUC \n",
      "regimen_or_line_of_therapy : NA PCV \n",
      "therapeutic_agents : NA Iodine I 131 Monoclonal Antibody 81C6 Tamoxifen Temozolomide Lomustine Laromustine Etoposide Celecoxib Cositecan Procarbazine ...\n",
      "timepoint_category : NA Preoperative Prior to Diagnosis \n",
      "treatment_dose : NA 40 84000 13200 2000 2040 6930 6000 425600 11 ...\n",
      "treatment_dose_units : NA mCi mg cGy Gy mg/m2 mg/kg Wafer mg/day \n",
      "treatment_intent_type : Adjuvant NA Neoadjuvant \n",
      "treatment_or_therapy : unknown yes no NA \n",
      "treatment_outcome : NA Stable Disease Treatment Ongoing Progressive Disease Partial Response Complete Response Unknown \n",
      "treatment_type : Pharmaceutical Therapy, NOS Antiseizure Treatment Radiation Therapy, NOS Steroid Therapy Surgery, NOS Brachytherapy, NOS Hormone Therapy Chemotherapy Radiation, External Beam Targeted Molecular Therapy ...\n"
     ]
    }
   ],
   "source": [
    "# Get columns that are not all NA\n",
    "non_na_cols <- names(clinical_data$LGG)[colSums(!is.na(clinical_data$LGG)) > 0]\n",
    "\n",
    "# Print unique values for each non-NA column, limited to 10 elements\n",
    "for (col in non_na_cols) {\n",
    "  unique_vals <- unique(clinical_data$LGG[[col]])\n",
    "  if (length(unique_vals) > 10) {\n",
    "    unique_vals <- unique_vals[1:10]\n",
    "    cat(col, \":\", unique_vals, \"...\\n\")\n",
    "  } else {\n",
    "    cat(col, \":\", unique_vals, \"\\n\")\n",
    "  }\n",
    "}"
   ]
  },
  {
   "cell_type": "markdown",
   "metadata": {},
   "source": [
    "## GBM"
   ]
  },
  {
   "cell_type": "code",
   "execution_count": 19,
   "metadata": {
    "vscode": {
     "languageId": "r"
    }
   },
   "outputs": [
    {
     "name": "stdout",
     "output_type": "stream",
     "text": [
      "case_id : 0078b0c4-68a9-483b-9aab-61156d263213 0133e584-111e-450a-b451-77a2799ef529 0164acd3-34db-4d35-b96c-936daad0ff22 01a92062-967a-4900-8dc7-a5ecd3b3f8e2 01c878a3-7c3d-457f-99fa-df255960a122 025a7401-a65d-4ea0-8b4e-0ba775b0322a 035b09b7-add1-456d-ae80-20e8a03f6d7b 0383769b-f54d-4293-a9dc-88b830d775dc 0389b35b-651b-4776-b12a-d315a100f47c 03e9a354-7c95-4484-9ead-ed04acce7cb6 ...\n",
      "case_submitter_id : TCGA-14-1034 TCGA-06-0133 TCGA-06-0140 TCGA-06-0171 TCGA-06-0402 TCGA-12-0819 TCGA-19-2621 TCGA-06-0194 TCGA-12-0619 TCGA-15-1447 ...\n",
      "project_id : TCGA-GBM \n",
      "age_at_index : 60 64 86 65 71 49 83 37 36 43 ...\n",
      "age_is_obfuscated : false NA \n",
      "country_of_residence_at_enrollment : NA United States Canada \n",
      "days_to_birth : -22029 -23402 -31566 -24085 -26059 -18160 -30429 -13852 -21920 -13326 ...\n",
      "days_to_death : 485 435 6 399 8 754 33 142 1062 NA ...\n",
      "ethnicity : not reported not hispanic or latino NA hispanic or latino \n",
      "gender : female male not reported NA \n",
      "race : not reported white black or african american asian NA \n",
      "vital_status : Dead Alive Not Reported NA \n",
      "year_of_birth : NA 1937 \n",
      "year_of_death : NA 2002 \n",
      "age_at_diagnosis : NA 22029 22311 23402 23480 31566 24085 24202 26059 18588 ...\n",
      "classification_of_tumor : recurrence primary Progression not reported NA Unknown Prior primary metastasis \n",
      "days_to_diagnosis : NA 0 282 78 117 428 125 203 340 260 ...\n",
      "diagnosis_is_primary_disease : false true NA \n",
      "icd_10_code : NA C71.9 C71.8 C71.2 C71.1 C71.4 \n",
      "last_known_disease_status : NA not reported \n",
      "laterality : NA Right \n",
      "method_of_diagnosis : NA Surgical Resection Excisional Biopsy Fine Needle Aspiration Incisional Biopsy Biopsy \n",
      "morphology : 9440/3 NA Unknown Not Reported 8140/3 \n",
      "primary_diagnosis : Glioblastoma NA Unknown Not Reported Adenocarcinoma, NOS \n",
      "prior_malignancy : NA not reported no yes \n",
      "prior_treatment : Yes No Not Reported NA \n",
      "progression_or_recurrence : NA not reported \n",
      "site_of_resection_or_biopsy : Not Reported Brain, NOS NA \n",
      "synchronous_malignancy : NA Not Reported No \n",
      "tissue_or_organ_of_origin : Not Reported Brain, NOS Overlapping lesion of brain Temporal lobe NA Frontal lobe Occipital lobe Breast, NOS Prostate gland \n",
      "tumor_grade : NA Not Reported \n",
      "tumor_of_origin : TCGA-14-1034_diagnosis NA TCGA-06-0133_diagnosis TCGA-06-0171_diagnosis TCGA-12-0819_diagnosis TCGA-06-0194_diagnosis TCGA-12-0619_diagnosis TCGA-15-1447_diagnosis TCGA-06-0221_diagnosis TCGA-02-0024_diagnosis ...\n",
      "year_of_diagnosis : NA 1999 2007 2003 2002 1993 1995 2009 1994 2004 ...\n",
      "chemo_concurrent_to_radiation : NA Yes \n",
      "clinical_trial_indicator : NA Yes No \n",
      "course_number : NA 2 1 3 4 \n",
      "days_to_treatment_end : NA 78 53 430 175 76 273 624 219 442 ...\n",
      "days_to_treatment_start : NA 448 54 8 282 14 79 81 36 231 ...\n",
      "initial_disease_status : Unknown Progressive Disease NA Recurrent Disease Not Reported \n",
      "number_of_cycles : NA 2 10 3 4 1 6 8 18 5 ...\n",
      "number_of_fractions : NA 30 33 31 5 3.5 35 1 26 10 ...\n",
      "prescribed_dose : NA 200 6 250 160 330 440 75 150 100 ...\n",
      "prescribed_dose_units : NA mg Wafer mg/day mg/kg mg/m2 mg/m2/day ug mL mg/dL ...\n",
      "therapeutic_agents : NA Carmustine Implant Dexamethasone Temozolomide Not Reported Irinotecan Hydrochloride Bevacizumab Carmustine Procarbazine Carboplatin ...\n",
      "treatment_dose : NA 8 5400 200 263 6000 927 400 394 150 ...\n",
      "treatment_dose_units : NA Wafer cGy mg/m2 mg mCi mg/day mg/m2/day ug/m2 Gy ...\n",
      "treatment_intent_type : NA Adjuvant Maintenance Therapy Not Reported Palliative Unknown \n",
      "treatment_or_therapy : yes no NA not reported unknown \n",
      "treatment_outcome : NA Not Reported Treatment Ongoing Stable Disease Progressive Disease Unknown Complete Response \n",
      "treatment_type : Pharmaceutical Therapy, NOS Radiation Therapy, NOS Surgery, NOS Chemotherapy Radiation, External Beam Hormone Therapy Targeted Molecular Therapy Radiation, Cyberknife Radiation, Radioisotope Radiation, Stereotactic/Gamma Knife/SRS ...\n"
     ]
    }
   ],
   "source": [
    "# Get columns that are not all NA\n",
    "non_na_cols <- names(clinical_data$GBM)[colSums(!is.na(clinical_data$GBM)) > 0]\n",
    "\n",
    "# Print unique values for each non-NA column, limited to 10 elements\n",
    "for (col in non_na_cols) {\n",
    "  unique_vals <- unique(clinical_data$GBM[[col]])\n",
    "  if (length(unique_vals) > 10) {\n",
    "    unique_vals <- unique_vals[1:10]\n",
    "    cat(col, \":\", unique_vals, \"...\\n\")\n",
    "  } else {\n",
    "    cat(col, \":\", unique_vals, \"\\n\")\n",
    "  }\n",
    "}"
   ]
  },
  {
   "cell_type": "code",
   "execution_count": null,
   "metadata": {
    "vscode": {
     "languageId": "r"
    }
   },
   "outputs": [],
   "source": []
  }
 ],
 "metadata": {
  "kernelspec": {
   "display_name": "R",
   "language": "R",
   "name": "ir"
  },
  "language_info": {
   "codemirror_mode": "r",
   "file_extension": ".r",
   "mimetype": "text/x-r-source",
   "name": "R",
   "pygments_lexer": "r",
   "version": "4.3.3"
  }
 },
 "nbformat": 4,
 "nbformat_minor": 2
}
